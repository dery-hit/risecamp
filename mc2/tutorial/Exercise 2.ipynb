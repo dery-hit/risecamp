{
 "cells": [
  {
   "cell_type": "markdown",
   "metadata": {},
   "source": [
    "## Client Collaboration\n",
    "First, let's set up our client. Fill in the same username you used in the previous notebook to generate your certificate."
   ]
  },
  {
   "cell_type": "code",
   "execution_count": 1,
   "metadata": {},
   "outputs": [],
   "source": [
    "import securexgboost as mc2\n",
    "from Utils import * "
   ]
  },
  {
   "cell_type": "code",
   "execution_count": 2,
   "metadata": {},
   "outputs": [],
   "source": [
    "# TODO: fill in the IP of the enclave server\n",
    "server_ip = \"13.68.246.44\"\n",
    "server_port = \"50052\" \n",
    "remote_addr = server_ip + \":\" + server_port "
   ]
  },
  {
   "cell_type": "code",
   "execution_count": 3,
   "metadata": {},
   "outputs": [],
   "source": [
    "# Get variables from previous notebooks\n",
    "%store -r"
   ]
  },
  {
   "cell_type": "markdown",
   "metadata": {},
   "source": [
    "## Data Transfer\n",
    "Next, centralize the data by send your training and test data to the person controlling the enclave server. Don't worry, though; your data is encrypted, and the controlling party won't be able to see your mushroom data. \n",
    "\n",
    "The `transfer_data()` function below is a Python wrapper around the command line `scp` function."
   ]
  },
  {
   "cell_type": "code",
   "execution_count": 4,
   "metadata": {},
   "outputs": [
    {
     "name": "stdout",
     "output_type": "stream",
     "text": [
      "Transferring /home/mc2/risecamp/mc2/tutorial/data/chief_train.enc to 13.68.246.44\n",
      "Warning: Permanently added '13.68.246.44' (ECDSA) to the list of known hosts.\n",
      "Transferring /home/mc2/risecamp/mc2/tutorial/data/chief_test.enc to 13.68.246.44\n",
      "Warning: Permanently added '13.68.246.44' (ECDSA) to the list of known hosts.\n"
     ]
    }
   ],
   "source": [
    "transfer_data(enc_training_data, server_ip)\n",
    "transfer_data(enc_test_data, server_ip)"
   ]
  },
  {
   "cell_type": "markdown",
   "metadata": {},
   "source": [
    "## Client Initialization and Authentication\n",
    "Once everyone has sent their data to the server, we can initialize our client. You'll need the usernames of all mushroom enthuasists in your collaboration.\n",
    "\n",
    "**TODO:** Fill in the usernames of all parties in your collaboration."
   ]
  },
  {
   "cell_type": "code",
   "execution_count": 7,
   "metadata": {},
   "outputs": [],
   "source": [
    "# Run this cell to initialize your client\n",
    "\n",
    "# TODO: fill out `clients`\n",
    "\n",
    "###########################################################\n",
    "# `clients` is a Python list, e.g.\n",
    "#\n",
    "# clients = [\"alice\", \"bob\"]\n",
    "###########################################################\n",
    "clients = ['chief']\n",
    "mc2.init_client(user_name=username, client_list=clients, sym_key_file=KEY_FILE, \n",
    "                priv_key_file=PUB_KEY, cert_file=CERT_FILE, remote_addr=remote_addr)"
   ]
  },
  {
   "cell_type": "markdown",
   "metadata": {},
   "source": [
    "Before we perform any computation, we want to attest that the remote enclave on the untrusted server has loaded the proper code. Secure XGBoost provides this functionality through the `attest()` API."
   ]
  },
  {
   "cell_type": "code",
   "execution_count": 8,
   "metadata": {},
   "outputs": [
    {
     "ename": "XGBoostError",
     "evalue": "[20:48:27] /home/mc2/secure-xgboost/host/src/c_api/c_api_mc.cc:705: Remote attestation failed. SHA256 mismatch.\nStack trace:\n  [bt] (0) /usr/local/lib/python3.6/dist-packages/securexgboost-0.1-py3.6.egg/securexgboost/libxgboost.so(_ZN4dmlc15LogMessageFatalD1Ev+0x7c) [0x7fa5d9c51cbc]\n  [bt] (1) /usr/local/lib/python3.6/dist-packages/securexgboost-0.1-py3.6.egg/securexgboost/libxgboost.so(_Z20attest_remote_reportPKhmS0_m+0x197) [0x7fa5d9c46dd7]\n  [bt] (2) /usr/local/lib/python3.6/dist-packages/securexgboost-0.1-py3.6.egg/securexgboost/libxgboost.so(verify_remote_report_and_set_pubkey_and_nonce+0x335) [0x7fa5d9c47315]\n  [bt] (3) /usr/lib/x86_64-linux-gnu/libffi.so.6(ffi_call_unix64+0x4c) [0x7fa61982adae]\n  [bt] (4) /usr/lib/x86_64-linux-gnu/libffi.so.6(ffi_call+0x22f) [0x7fa61982a71f]\n  [bt] (5) /usr/lib/python3.6/lib-dynload/_ctypes.cpython-36m-x86_64-linux-gnu.so(_ctypes_callproc+0x2b4) [0x7fa619a3e5c4]\n  [bt] (6) /usr/lib/python3.6/lib-dynload/_ctypes.cpython-36m-x86_64-linux-gnu.so(+0x11c33) [0x7fa619a3ec33]\n  [bt] (7) /usr/bin/python3(_PyObject_FastCallKeywords+0x19c) [0x5a9dac]\n  [bt] (8) /usr/bin/python3() [0x50a433]\n\n",
     "output_type": "error",
     "traceback": [
      "\u001b[0;31m---------------------------------------------------------------------------\u001b[0m",
      "\u001b[0;31mXGBoostError\u001b[0m                              Traceback (most recent call last)",
      "\u001b[0;32m<ipython-input-8-723f4e72f77f>\u001b[0m in \u001b[0;36m<module>\u001b[0;34m()\u001b[0m\n\u001b[1;32m      1\u001b[0m \u001b[0;31m# Verify that the enclave has been set up correctly\u001b[0m\u001b[0;34m\u001b[0m\u001b[0;34m\u001b[0m\u001b[0;34m\u001b[0m\u001b[0m\n\u001b[0;32m----> 2\u001b[0;31m \u001b[0mmc2\u001b[0m\u001b[0;34m.\u001b[0m\u001b[0mattest\u001b[0m\u001b[0;34m(\u001b[0m\u001b[0;34m)\u001b[0m\u001b[0;34m\u001b[0m\u001b[0;34m\u001b[0m\u001b[0m\n\u001b[0m",
      "\u001b[0;32m/usr/local/lib/python3.6/dist-packages/securexgboost-0.1-py3.6.egg/securexgboost/core.py\u001b[0m in \u001b[0;36mattest\u001b[0;34m(verify)\u001b[0m\n\u001b[1;32m   2664\u001b[0m             \u001b[0mnonce\u001b[0m\u001b[0;34m,\u001b[0m \u001b[0mnonce_size\u001b[0m\u001b[0;34m,\u001b[0m\u001b[0;34m\u001b[0m\u001b[0;34m\u001b[0m\u001b[0m\n\u001b[1;32m   2665\u001b[0m             \u001b[0mfrom_pystr_to_cstr\u001b[0m\u001b[0;34m(\u001b[0m\u001b[0m_CONF\u001b[0m\u001b[0;34m[\u001b[0m\u001b[0;34m\"client_list\"\u001b[0m\u001b[0;34m]\u001b[0m\u001b[0;34m)\u001b[0m\u001b[0;34m,\u001b[0m \u001b[0mlen\u001b[0m\u001b[0;34m(\u001b[0m\u001b[0m_CONF\u001b[0m\u001b[0;34m[\u001b[0m\u001b[0;34m\"client_list\"\u001b[0m\u001b[0;34m]\u001b[0m\u001b[0;34m)\u001b[0m\u001b[0;34m,\u001b[0m\u001b[0;34m\u001b[0m\u001b[0;34m\u001b[0m\u001b[0m\n\u001b[0;32m-> 2666\u001b[0;31m             remote_report, remote_report_size))\n\u001b[0m\u001b[1;32m   2667\u001b[0m \u001b[0;34m\u001b[0m\u001b[0m\n\u001b[1;32m   2668\u001b[0m     \u001b[0m_CONF\u001b[0m\u001b[0;34m[\u001b[0m\u001b[0;34m\"enclave_pk\"\u001b[0m\u001b[0;34m]\u001b[0m \u001b[0;34m=\u001b[0m \u001b[0mpem_key\u001b[0m\u001b[0;34m\u001b[0m\u001b[0;34m\u001b[0m\u001b[0m\n",
      "\u001b[0;32m/usr/local/lib/python3.6/dist-packages/securexgboost-0.1-py3.6.egg/securexgboost/core.py\u001b[0m in \u001b[0;36m_check_call\u001b[0;34m(ret)\u001b[0m\n\u001b[1;32m    201\u001b[0m     \"\"\"\n\u001b[1;32m    202\u001b[0m     \u001b[0;32mif\u001b[0m \u001b[0mret\u001b[0m \u001b[0;34m!=\u001b[0m \u001b[0;36m0\u001b[0m\u001b[0;34m:\u001b[0m\u001b[0;34m\u001b[0m\u001b[0;34m\u001b[0m\u001b[0m\n\u001b[0;32m--> 203\u001b[0;31m         \u001b[0;32mraise\u001b[0m \u001b[0mXGBoostError\u001b[0m\u001b[0;34m(\u001b[0m\u001b[0mpy_str\u001b[0m\u001b[0;34m(\u001b[0m\u001b[0m_LIB\u001b[0m\u001b[0;34m.\u001b[0m\u001b[0mXGBGetLastError\u001b[0m\u001b[0;34m(\u001b[0m\u001b[0;34m)\u001b[0m\u001b[0;34m)\u001b[0m\u001b[0;34m)\u001b[0m\u001b[0;34m\u001b[0m\u001b[0;34m\u001b[0m\u001b[0m\n\u001b[0m\u001b[1;32m    204\u001b[0m \u001b[0;34m\u001b[0m\u001b[0m\n\u001b[1;32m    205\u001b[0m \u001b[0;32mdef\u001b[0m \u001b[0mctypes2numpy\u001b[0m\u001b[0;34m(\u001b[0m\u001b[0mcptr\u001b[0m\u001b[0;34m,\u001b[0m \u001b[0mlength\u001b[0m\u001b[0;34m,\u001b[0m \u001b[0mdtype\u001b[0m\u001b[0;34m)\u001b[0m\u001b[0;34m:\u001b[0m\u001b[0;34m\u001b[0m\u001b[0;34m\u001b[0m\u001b[0m\n",
      "\u001b[0;31mXGBoostError\u001b[0m: [20:48:27] /home/mc2/secure-xgboost/host/src/c_api/c_api_mc.cc:705: Remote attestation failed. SHA256 mismatch.\nStack trace:\n  [bt] (0) /usr/local/lib/python3.6/dist-packages/securexgboost-0.1-py3.6.egg/securexgboost/libxgboost.so(_ZN4dmlc15LogMessageFatalD1Ev+0x7c) [0x7fa5d9c51cbc]\n  [bt] (1) /usr/local/lib/python3.6/dist-packages/securexgboost-0.1-py3.6.egg/securexgboost/libxgboost.so(_Z20attest_remote_reportPKhmS0_m+0x197) [0x7fa5d9c46dd7]\n  [bt] (2) /usr/local/lib/python3.6/dist-packages/securexgboost-0.1-py3.6.egg/securexgboost/libxgboost.so(verify_remote_report_and_set_pubkey_and_nonce+0x335) [0x7fa5d9c47315]\n  [bt] (3) /usr/lib/x86_64-linux-gnu/libffi.so.6(ffi_call_unix64+0x4c) [0x7fa61982adae]\n  [bt] (4) /usr/lib/x86_64-linux-gnu/libffi.so.6(ffi_call+0x22f) [0x7fa61982a71f]\n  [bt] (5) /usr/lib/python3.6/lib-dynload/_ctypes.cpython-36m-x86_64-linux-gnu.so(_ctypes_callproc+0x2b4) [0x7fa619a3e5c4]\n  [bt] (6) /usr/lib/python3.6/lib-dynload/_ctypes.cpython-36m-x86_64-linux-gnu.so(+0x11c33) [0x7fa619a3ec33]\n  [bt] (7) /usr/bin/python3(_PyObject_FastCallKeywords+0x19c) [0x5a9dac]\n  [bt] (8) /usr/bin/python3() [0x50a433]\n\n"
     ]
    }
   ],
   "source": [
    "# Verify that the enclave has been set up correctly\n",
    "mc2.attest()"
   ]
  },
  {
   "cell_type": "markdown",
   "metadata": {},
   "source": [
    "## Collaborative Training\n",
    "Once we've authenticated the enclave, we can begin making requests to the enclave server. MC<sup>2</sup> enables users to make requests through a Python API, but will only execute requests once all users in the collaboration have submitted the same request. Consequently, users must submit the exact same requests in the exact order if they want to collaboratively compute. \n",
    "\n",
    "In particular, if you submit a request, the RPC orchestrator will queue up your request and only relay the request to the enclave server once all members of the collaboration have submitted the same request. Consequently, the execution of a cell containing a MC<sup>2</sup> API call will only finish once all parties have called the same function and the enclave server has returned from that function.\n",
    "\n",
    "Let's first prepare for training by loading everyone's encrypted training data within the enclave. "
   ]
  },
  {
   "cell_type": "markdown",
   "metadata": {},
   "source": [
    "Fill in the paths to each party's training data. Your training data is at `<your_username>_train.enc`.\n",
    "\n",
    "MC<sup>2</sup>'s `DMatrix()` function takes in a dictionary:\n",
    "\n",
    "`{\"username1\": \"user1.data\", \"username2\": \"user2.data\"}`. "
   ]
  },
  {
   "cell_type": "code",
   "execution_count": null,
   "metadata": {},
   "outputs": [],
   "source": [
    "# TODO: fill in usernames and training data paths\n",
    "\n",
    "#####################################################################################################################\n",
    "# For example if the collaboration has two users, `alice` and `bob`, \n",
    "# the following would look like\n",
    "#\n",
    "# dtrain = mc2.DMatrix({\"alice\": \"alice_train.enc\", \"bob\": \"bob_train.enc\"})\n",
    "#####################################################################################################################\n",
    "\n",
    "dtrain = mc2.DMatrix({<****>: <****>, \n",
    "                      <****>: <****>,\n",
    "                      <****>: <****>, \n",
    "                      <****>: <****>})"
   ]
  },
  {
   "cell_type": "markdown",
   "metadata": {},
   "source": [
    "Next, jointly train a model over all mushroom samples shared by your group!"
   ]
  },
  {
   "cell_type": "code",
   "execution_count": null,
   "metadata": {},
   "outputs": [],
   "source": [
    "# Set parameters\n",
    "params = {\n",
    "        \"tree_method\": \"hist\",\n",
    "        \"objective\": \"binary:logistic\",\n",
    "        \"min_child_weight\": \"1\",\n",
    "        \"gamma\": \"0.1\",\n",
    "        \"max_depth\": \"3\",\n",
    "        \"verbosity\": \"1\" \n",
    "}\n",
    "\n",
    "num_rounds = 10\n",
    "booster = mc2.train(params, dtrain, num_rounds)"
   ]
  },
  {
   "cell_type": "markdown",
   "metadata": {},
   "source": [
    "## Prediction Serving\n",
    "Once we've jointly trained a model, we'll use the model to serve predictions on each party's test data. Each party should load its data into a separate object so that the model will output a set of predictions on only that party's test data. Predictions served by MC<sup>2</sup> are encrypted and can only be decrypted by the owner of the test data.\n",
    "\n",
    "Remember that a request can only be executed if every party allows it. As a result, we'll need to submit a request to load test data for _every party_. \n",
    "\n",
    "**TODO:** Fill in usernames and paths to test data for each user. Your test data is at path `<your_username>_test.enc`."
   ]
  },
  {
   "cell_type": "code",
   "execution_count": null,
   "metadata": {},
   "outputs": [],
   "source": [
    "# Load everyone's test data\n",
    "\n",
    "# TODO: fill in usernames and test data paths\n",
    "dtest1 = mc2.DMatrix({<****>: <****>})\n",
    "dtest2 = mc2.DMatrix({<****>: <****>})\n",
    "dtest3 = mc2.DMatrix({<****>: <****>})\n",
    "dtest4 = mc2.DMatrix({<****>: <****>})"
   ]
  },
  {
   "cell_type": "markdown",
   "metadata": {},
   "source": [
    "Once we've loaded each party's test data, we'll need to ask MC<sup>2</sup> to serve predictions on each set of test data. However, we only want (and will only be able to decrypt) the predictions on our test data, so only store the return value of the `predict()` function called on our test data.\n",
    "\n",
    "The `predict()` function returns two values: `(encrypted_predictions, num_predictions)`."
   ]
  },
  {
   "cell_type": "code",
   "execution_count": null,
   "metadata": {},
   "outputs": [],
   "source": [
    "# Allow everyone to get their predictions\n",
    "\n",
    "##################################################################################################\n",
    "# Remember to store the predictions on your test data. For example, if you own `dtest3`, your code\n",
    "# should look like the following\n",
    "#\n",
    "#   booster.predict(dtest1)\n",
    "#   booster.predict(dtest2)\n",
    "#   enc_preds, num_preds = booster.predict(dtest3)\n",
    "#   booster.predict(dtest4)\n",
    "##################################################################################################\n",
    "\n",
    "booster.predict(dtest1)\n",
    "booster.predict(dtest2)\n",
    "booster.predict(dtest3)\n",
    "booster.predict(dtest4)"
   ]
  },
  {
   "cell_type": "markdown",
   "metadata": {},
   "source": [
    "At this point, each party has obtained a set of encrypted predictions. They now have a better idea of whether their mysterious mushroom samples are edible! Decrypt the predictions to reap the benefits of the collaboration and of being a member of the mushroom enthuasist group."
   ]
  },
  {
   "cell_type": "code",
   "execution_count": null,
   "metadata": {},
   "outputs": [],
   "source": [
    "# Decrypt our predictions\n",
    "preds = booster.decrypt_predictions(enc_preds, num_preds)\n",
    "print(preds[:10])"
   ]
  },
  {
   "cell_type": "code",
   "execution_count": null,
   "metadata": {},
   "outputs": [],
   "source": []
  }
 ],
 "metadata": {
  "kernelspec": {
   "display_name": "Python 3",
   "language": "python",
   "name": "python3"
  },
  "language_info": {
   "codemirror_mode": {
    "name": "ipython",
    "version": 3
   },
   "file_extension": ".py",
   "mimetype": "text/x-python",
   "name": "python",
   "nbconvert_exporter": "python",
   "pygments_lexer": "ipython3",
   "version": "3.6.9"
  }
 },
 "nbformat": 4,
 "nbformat_minor": 2
}
