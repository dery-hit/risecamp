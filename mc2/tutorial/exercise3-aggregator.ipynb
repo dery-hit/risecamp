{
 "cells": [
  {
   "cell_type": "markdown",
   "metadata": {},
   "source": [
    "## Multiparty XGBoost with Federated Training\n",
    "We will now discuss running XGBoost in the federated setting. Unlike the previous exercise, in the federated setting all data stays on its respective machine. This eliminates the need to transfer over the network which incurs high overhead and requires significant bandwidth. Instead, in the federated setting in each iteration each party sends a summary of the update made to its model. The central server then aggregates these updates, applies the aggregated update to its model, and broadcasts the new model to all parties. The parties then train locally with the new model and sends the update to the central server.\n",
    "\n",
    "![title](img/exercise3.png)\n",
    "\n",
    "In our project, all this is abstracted away. The central server simply starts the training, and everything else is performed automatically.\n",
    "\n",
    "Import some helper functions."
   ]
  },
  {
   "cell_type": "code",
   "execution_count": null,
   "metadata": {},
   "outputs": [],
   "source": [
    "import pandas as pd\n",
    "import subprocess\n",
    "from Utils import network_analysis, start_job"
   ]
  },
  {
   "cell_type": "markdown",
   "metadata": {},
   "source": [
    "### Edit hosts.config\n",
    "The `hosts.config` file should contain the IPs and SSH ports of all parties in the federation. \n",
    "Retrieve the IPs of all members in the federation from the PKI and write it to the hosts.config file."
   ]
  },
  {
   "cell_type": "code",
   "execution_count": null,
   "metadata": {},
   "outputs": [],
   "source": [
    "# Get the IPs of all members in your federation and add it to hosts.config\n",
    "from Utils import PKI\n",
    "\n",
    "members = [\"chester\", \"rishabh\", \"wenting\"]\n",
    "pki = PKI()\n",
    "with open(\"hosts.config\", \"w+\") as hosts:\n",
    "    for member in members:\n",
    "        IP, key = pki.lookup(member)\n",
    "        \n",
    "        # Write the member's IP address and port 5522 to hosts.config\n",
    "        hosts.write(IP +\":5522\\n\")"
   ]
  },
  {
   "cell_type": "markdown",
   "metadata": {},
   "source": [
    "### Set Variables For Network Analysis\n",
    "We'll walk you through inspecting packets during this tutorial as well to make sure that the network topology is indeed federated. For each variable below, fill in the corresponding IP (don't worry about the ordering of the worker nodes)."
   ]
  },
  {
   "cell_type": "code",
   "execution_count": null,
   "metadata": {},
   "outputs": [],
   "source": [
    "master = '0'\n",
    "worker_1 = '1'\n",
    "worker_2 = '2'\n",
    "worker_3 = '3'"
   ]
  },
  {
   "cell_type": "markdown",
   "metadata": {},
   "source": [
    "### Training Script\n",
    "We will now examine the script that will be run for federated training. We've written the training script for this part for you. Load it in by running the following cell. The contents of the script should appear in the cell. \n",
    "\n",
    "You, the aggregator, control the training. Feel free to play with the `params` argument passed into the `train()` function. A list of possible parameters and their descriptions can be found [here](https://xgboost.readthedocs.io/en/latest/parameter.html). \n",
    "\n",
    "Note: the top of this cell should look like the following before you run it.\n",
    "\n",
    "```python\n",
    "%%writefile train_model.py\n",
    "from Utils import FederatedXGBoost\n",
    "...\n",
    "```\n",
    "\n",
    "The `%%writefile train_model.py` is a magic that will write the cell to disk under the name `train_model.py` once you run the cell. Running the cell basically saves your changes to disk.\n"
   ]
  },
  {
   "cell_type": "code",
   "execution_count": 2,
   "metadata": {},
   "outputs": [
    {
     "name": "stdout",
     "output_type": "stream",
     "text": [
      "Overwriting train_model.py\n"
     ]
    }
   ],
   "source": [
    "%%writefile train_model.py\n",
    "from Utils import FederatedXGBoost\n",
    "\n",
    "# Instantiate a FederatedXGBoost instance\n",
    "fxgb = FederatedXGBoost()\n",
    "\n",
    "# Get number of federating parties\n",
    "print(\"Number of parties in federation: \", fxgb.get_num_parties())\n",
    "\n",
    "# Load training data\n",
    "training_data_path = \"/data/insurance/insurance_training.csv\"\n",
    "fxgb.load_training_data(training_data_path)\n",
    "\n",
    "# Train a model\n",
    "params = {'max_depth': 3, \"objective\": \"binary:logistic\"}\n",
    "num_rounds = 100\n",
    "fxgb.train(params, num_rounds)\n",
    "\n",
    "# Save the model\n",
    "fxgb.save_model(\"ex3_model.model\")\n",
    "\n",
    "# Shutdown\n",
    "fxgb.shutdown()"
   ]
  },
  {
   "cell_type": "markdown",
   "metadata": {},
   "source": [
    "### Using tcpdump to Capture Packets\n",
    "We will be using `tcpdump` to monitor the network traffic during training. The cell below spawns a process that records all incoming network traffic."
   ]
  },
  {
   "cell_type": "code",
   "execution_count": null,
   "metadata": {},
   "outputs": [],
   "source": [
    "tcpdump_cmd = 'tcpdump -ni eth0 -s0 -w capture.pcap'\n",
    "tcpdump_process = subprocess.Popen(tcpdump_cmd, stdout=subprocess.PIPE, shell=True)"
   ]
  },
  {
   "cell_type": "markdown",
   "metadata": {},
   "source": [
    "### Start Job\n",
    "After modifying the script, we can start our job! We can use the `start_job()` helper function to do so.\n",
    "`start_job(num_parties, memory, script_path)` takes in three parameters:\n",
    "* num_parties: The number of parties in the federation. This should be the same as the number of IPs added to hosts.config\n",
    "* memory: The amount of memory to use for this job on each party's machine\n",
    "* script_path: The absolute path to the script we want to run"
   ]
  },
  {
   "cell_type": "code",
   "execution_count": null,
   "metadata": {},
   "outputs": [],
   "source": [
    "start_job(2, 3, \"/home/$USER/train_model.py\")"
   ]
  },
  {
   "cell_type": "markdown",
   "metadata": {},
   "source": [
    "Kill the tcpdump process once training has finished as we no longer need to monitor network traffic"
   ]
  },
  {
   "cell_type": "code",
   "execution_count": null,
   "metadata": {},
   "outputs": [],
   "source": [
    "tcpdump_process.terminate()"
   ]
  },
  {
   "cell_type": "markdown",
   "metadata": {},
   "source": [
    "## Network Analysis Results\n",
    "In the federated setting, parties don't communicate with each other -- they only communicate with the central aggregator. We've monitored network traffic in this section to show this isolated communication, and also to show that the communication of updates (as in the federated setting) requires less bandwidth than the transfer of whole raw datasets (as in the centralized training scenario from Exercise 2). \n",
    "\n",
    "Running the cell below does some conversion and preprocessing in pandas of the `.pcap` outputted by `tcpdump` to visualize the byte transmission during training."
   ]
  },
  {
   "cell_type": "code",
   "execution_count": null,
   "metadata": {},
   "outputs": [],
   "source": [
    "counts = network_analysis(master, worker_1, worker_2, worker_3)\n",
    "counts"
   ]
  },
  {
   "cell_type": "markdown",
   "metadata": {},
   "source": [
    "## Model Evaluation\n",
    "We'll now use the model we trained in the previous step to make predictions on our test data. Load in the federated model, preprocess your test data, and evaluate the model with the test data.\n",
    "\n",
    "* Test data for the insurance dataset is at `/data/insurance/insurance_test_{party_id}.csv`"
   ]
  },
  {
   "cell_type": "code",
   "execution_count": null,
   "metadata": {},
   "outputs": [],
   "source": [
    "import xgboost as xgb\n",
    "\n",
    "model_path = \"ex3_model.model\"\n",
    "multiparty_model = xgb.Booster()\n",
    "multiparty_model.load_model(model_path)"
   ]
  },
  {
   "cell_type": "code",
   "execution_count": null,
   "metadata": {},
   "outputs": [],
   "source": [
    "test_data_path = \"/path/to/test/data\" # TODO: replace this with the path to your test data\n",
    "test_data_subset = pd.read_csv(test_data_path, sep=\",\", header=None)\n",
    "y_test_subset = test_data_subset.iloc[:, 0]\n",
    "x_test_subset = test_data_subset.iloc[:, 1:]\n",
    "test_data = xgb.DMatrix(x_test_subset, label=y_test_subset)"
   ]
  },
  {
   "cell_type": "code",
   "execution_count": null,
   "metadata": {},
   "outputs": [],
   "source": [
    "multiparty_model.eval(test_data)"
   ]
  }
 ],
 "metadata": {
  "kernelspec": {
   "display_name": "Python 3",
   "language": "python",
   "name": "python3"
  },
  "language_info": {
   "codemirror_mode": {
    "name": "ipython",
    "version": 3
   },
   "file_extension": ".py",
   "mimetype": "text/x-python",
   "name": "python",
   "nbconvert_exporter": "python",
   "pygments_lexer": "ipython3",
   "version": "3.6.8"
  }
 },
 "nbformat": 4,
 "nbformat_minor": 2
}
