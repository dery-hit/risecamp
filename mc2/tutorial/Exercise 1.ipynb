{
 "cells": [
  {
   "cell_type": "markdown",
   "metadata": {},
   "source": [
    "# MC<sup>2</sup>\n",
    "This tutorial demonstrates how to use [MC<sup>2</sup>](https://github.com/mc2-project/mc2) (<b>M</b>ultiparty <b>C</b>ollaboration and <b>C</b>ompetition), our platform that enables collaborating parties to jointly perform analytics and train machine learning models on their sensitive data without sharing the contents of the data. In particular, this tutorial focuses on a module of MC<sup>2</sup> that supports gradient boosted decision tree learning, [Secure XGBoost](https://github.com/mc2-project/secure-xgboost).\n",
    "\n",
    "Secure XGBoost leverages secure enclaves, e.g. Intel SGX, to perform computation in a secure environment. Parties can send their encrypted data to an untrusted server hosting Secure XGBoost, which will then load the data into an enclave before decrypting it. Since enclaves provide encrypted regions of memory, even the OS, hypervisor, and other (privileged) processes on the same machine won't be able to see the unencrypted data or intermediate results during computation.\n",
    "\n",
    "However, secure enclaves have been shown to be vulnerable to a whole host of side-channel attacks. To combat this, Secure XGBoost redesigns GBDT learning algorithms to be data-oblivious, i.e. to make memory accesses independent of input. The use of data-oblivous algorithms eliminates a large class of leakage that side-channel attacks rely on to extract information.\n",
    "\n",
    "Secure XGBoost's architecture is shown below. Clients make requests to a central untrusted RPC orchestrator, which queues up requests and relays each request to each enclave server once all parties have made a particular request. Computation happens in a distributed manner across the enclave cluster.\n",
    "\n",
    "![Secure XGBoost architecture](figures/sys-arch.png)"
   ]
  },
  {
   "cell_type": "markdown",
   "metadata": {},
   "source": [
    "In this tutorial, we'll break everyone into small groups -- each group will be collaborating to jointly train a decision tree model. While in practice there will exist a central enclave server controlled by no one member of the party, in this tutorial one member per group will start the enclave server that enables clients to jointly orchestrate a training pipeline that will run inside an enclave. All group members will submit requests to jointly execute the pipeline.\n",
    "\n",
    "MC<sup>2</sup> is open source and available on [GitHub](https://github.com/mc2-project/mc2)."
   ]
  },
  {
   "cell_type": "markdown",
   "metadata": {},
   "source": [
    "## Mushroom Dataset\n",
    "In this tutorial we'll be using the [Mushroom Dataset](https://archive.ics.uci.edu/ml/datasets/mushroom). This dataset contains 22 features, each of which represents a physical characteristic of a particular mushroom sample. Labels in this dataset are binary, and represent whether a mushroom sample is edible. As a result, the datasets lends itself quite nicely to a binary classification task.\n",
    "\n",
    "<img src=\"figures/mushroom.png\" width=\"100\"/>\n",
    "\n",
    "Imagine that you're part of a mushroom enthusiast group, and have stumbled across some mushroom samples whose edibility is unknown even after much examination. You could of course decide to try eating them, but eating even one poisonous mushroom would lead to the end of your mushroom collection career. Instead, you decide to team up with a few other mushroom enthuasists and combine your data to train a more robust mushroom edibility classification model. \n",
    "\n",
    "However, collecting all your mushroom samples was hard work -- you don't want other mushroom enthuasists to have access to your hard earned data, and consequently don't want to share your data in plaintext."
   ]
  },
  {
   "cell_type": "markdown",
   "metadata": {},
   "source": [
    "## 1. User Setup\n",
    "We'll first need to set up your user by inputting a username, generating a keypair, generating a certificate, and generating a symmetric key.\n",
    "\n",
    "**TODO:** Create and enter a username."
   ]
  },
  {
   "cell_type": "code",
   "execution_count": 1,
   "metadata": {},
   "outputs": [],
   "source": [
    "import securexgboost as mc2\n",
    "from Utils import *\n",
    "\n",
    "# TODO: Enter your username below as a string. Ensure that your username doesn't\n",
    "# contain any spaces.\n",
    "username = \"chester\"\n",
    "cwd = \"/home/mc2/risecamp/mc2/tutorial/\""
   ]
  },
  {
   "cell_type": "code",
   "execution_count": 2,
   "metadata": {},
   "outputs": [
    {
     "name": "stdout",
     "output_type": "stream",
     "text": [
      "Generating keypair\n",
      "Generating RSA private key, 3072 bit long modulus (2 primes)\n",
      ".........................++++\n",
      ".....++++\n",
      "e is 3 (0x03)\n",
      "Generating CSR\n",
      "Signing CSR\n",
      "Signature ok\n",
      "subject=CN = chester\n",
      "Getting CA Private Key\n"
     ]
    }
   ],
   "source": [
    "# Run this cell to generate a keypair and a certificate\n",
    "generate_certificate(username)\n",
    "PUB_KEY = \"config/{0}.pem\".format(username)\n",
    "CERT_FILE = \"config/{0}.crt\".format(username)"
   ]
  },
  {
   "cell_type": "code",
   "execution_count": 3,
   "metadata": {},
   "outputs": [],
   "source": [
    "# Run this cell to generate a symmetric key\n",
    "KEY_FILE = \"key.txt\"\n",
    "mc2.generate_client_key(KEY_FILE)"
   ]
  },
  {
   "cell_type": "markdown",
   "metadata": {},
   "source": [
    "## 2. Data Preparation\n"
   ]
  },
  {
   "cell_type": "markdown",
   "metadata": {},
   "source": [
    "Since attendees have been split into groups of 4, we've prepared four sets of training data, one set for each person in the group. Coordinate who will be using which set.\n",
    "\n",
    "Training data for each user is located at the following paths:\n",
    "* user 1: `/home/mc2/risecamp/mc2/tutorial/data/agaricus1.txt`\n",
    "* user 2: `/home/mc2/risecamp/mc2/tutorial/data/agaricus2.txt`\n",
    "* user 3: `/home/mc2/risecamp/mc2/tutorial/data/agaricus3.txt`\n",
    "* user 4: `/home/mc2/risecamp/mc2/tutorial/data/agaricus4.txt`\n",
    "\n",
    "Test data for each use is located at the following paths:\n",
    "* user 1: `/home/mc2/risecamp/mc2/tutorial/data/agaricus1.txt.test`\n",
    "* user 2: `/home/mc2/risecamp/mc2/tutorial/data/agaricus2.txt.test`\n",
    "* user 3: `/home/mc2/risecamp/mc2/tutorial/data/agaricus3.txt.test`\n",
    "* user 4: `/home/mc2/risecamp/mc2/tutorial/data/agaricus4.txt.test`"
   ]
  },
  {
   "cell_type": "markdown",
   "metadata": {},
   "source": [
    "### Plaintext Data Examination\n",
    "First, examine your training data -- check out the mushroom samples you've collected! \n",
    "\n",
    "Secure XGBoost uses LibSVM format. The first column represents the sample label (whether the sample is edible). All features are categorical, and features have been one hot encoded -- each column represents the category of the feature. In particular, note that the data is in plaintext and is readable.\n",
    "\n",
    "**TODO:** Fill in the path to your training data."
   ]
  },
  {
   "cell_type": "code",
   "execution_count": 4,
   "metadata": {},
   "outputs": [
    {
     "name": "stdout",
     "output_type": "stream",
     "text": [
      "0 4:1 7:1 11:1 22:1 29:1 34:1 37:1 39:1 42:1 54:1 58:1 62:1 66:1 77:1 86:1 88:1 92:1 95:1 98:1 105:1 114:1 120:1\r\n",
      "1 4:1 10:1 11:1 21:1 30:1 34:1 36:1 40:1 51:1 53:1 58:1 65:1 69:1 77:1 86:1 88:1 92:1 95:1 102:1 106:1 118:1 120:1\r\n",
      "0 3:1 10:1 11:1 22:1 29:1 34:1 37:1 39:1 41:1 54:1 58:1 62:1 66:1 77:1 86:1 88:1 92:1 95:1 98:1 106:1 114:1 120:1\r\n",
      "0 3:1 7:1 11:1 22:1 29:1 34:1 37:1 39:1 42:1 54:1 58:1 65:1 66:1 77:1 86:1 88:1 92:1 95:1 98:1 105:1 117:1 120:1\r\n",
      "0 4:1 7:1 11:1 22:1 29:1 34:1 37:1 39:1 41:1 54:1 58:1 65:1 69:1 77:1 86:1 88:1 92:1 95:1 98:1 105:1 114:1 120:1\r\n",
      "0 3:1 7:1 19:1 22:1 29:1 34:1 37:1 39:1 41:1 54:1 58:1 65:1 69:1 77:1 86:1 88:1 92:1 95:1 98:1 106:1 117:1 120:1\r\n",
      "0 4:1 10:1 14:1 22:1 29:1 34:1 37:1 39:1 48:1 54:1 58:1 62:1 69:1 77:1 86:1 88:1 92:1 95:1 98:1 106:1 114:1 120:1\r\n",
      "0 4:1 7:1 19:1 22:1 29:1 34:1 37:1 39:1 44:1 54:1 58:1 62:1 69:1 77:1 86:1 88:1 92:1 95:1 98:1 105:1 117:1 120:1\r\n",
      "0 4:1 10:1 20:1 21:1 23:1 34:1 37:1 40:1 42:1 54:1 55:1 65:1 69:1 77:1 86:1 88:1 92:1 95:1 102:1 106:1 118:1 126:1\r\n",
      "0 4:1 7:1 19:1 21:1 23:1 34:1 37:1 40:1 42:1 54:1 55:1 65:1 69:1 77:1 86:1 88:1 92:1 95:1 102:1 106:1 118:1 126:1\r\n"
     ]
    }
   ],
   "source": [
    "# TODO: fill in the path to your training data\n",
    "!tail -n 10 /home/mc2/risecamp/mc2/tutorial/data/agaricus1.txt"
   ]
  },
  {
   "cell_type": "markdown",
   "metadata": {},
   "source": [
    "### Data Encryption\n",
    "Next, use the symmetric key generated above to encrypt your data. You've spent inordinate amounts of time collecting your mushroom samples and examining them, and don't want to share the fruits of your labor with anyone else.\n",
    "\n",
    "**TODO:** Specify the paths to your training and test data."
   ]
  },
  {
   "cell_type": "code",
   "execution_count": 5,
   "metadata": {},
   "outputs": [],
   "source": [
    "# TODO: edit the `training_data` and `test_data` strings with the paths to your data\n",
    "training_data = \"/home/mc2/risecamp/mc2/tutorial/data/agaricus1.txt\"\n",
    "test_data = \"/home/mc2/risecamp/mc2/tutorial/data/agaricus1.txt.test\""
   ]
  },
  {
   "cell_type": "code",
   "execution_count": 6,
   "metadata": {},
   "outputs": [],
   "source": [
    "# Paths to output encrypted data\n",
    "enc_training_data = cwd + \"data/{}_train.enc\".format(username)\n",
    "enc_test_data = cwd + \"data/{}_test.enc\".format(username)"
   ]
  },
  {
   "cell_type": "code",
   "execution_count": 7,
   "metadata": {},
   "outputs": [],
   "source": [
    "# Encrypt data\n",
    "mc2.encrypt_file(training_data, enc_training_data, KEY_FILE)\n",
    "mc2.encrypt_file(test_data, enc_test_data, KEY_FILE)"
   ]
  },
  {
   "cell_type": "markdown",
   "metadata": {},
   "source": [
    "### Encrypted Data Examination\n",
    "The encrypted data is at `/home/mc2/risecamp/mc2/tutorial/data/<username>_train.enc` and `/home/mc2/risecamp/mc2/tutorial/data/<username>_test.enc`. Let's take a look to confirm it's encrypted and that no one can see the characteristics of your samples.\n",
    "\n",
    "**TODO:** Fill in your username to specify the path to your encrypted data."
   ]
  },
  {
   "cell_type": "code",
   "execution_count": 8,
   "metadata": {},
   "outputs": [
    {
     "name": "stdout",
     "output_type": "stream",
     "text": [
      "1616,1625,P6JEVD5IdBKBJIbE,IFfd/YTeNaNMvyIb0ThcKA==,pHn0fShd1oyO2GFtAfga1gENJL8n3SQGhlPfTsgym3zbAks7Mqf2MIthNAloD5aifOOlJTjnzjXPlsi2hvK9CU3CS6gny9S/d85Hbp0e9OtS0ZyPSqboXsF1/Zi62CkuDdiRL0BlrV/Jk3eUPJR8/w==\r\n",
      "1617,1625,47lx9c7fkFEVgcfk,KCf5Y79QGltHHE0Wxw25ow==,BYyJdZB6qiFi01vHnRZAE7NuH41qsHwq0E+Qpj9OVBBFJ/O3B4e4X/ahoNSHv6KbR7db9bs2kleFTVUCa7oZDdv2kbkSN+m1iRTFUorVDZH4/lNSwQamtQftFCLT9GQ1VEQ8NDePlVKpjjA+mDjc9LKu\r\n",
      "1618,1625,oLodJ+XwYixf5OWV,4Rn7wyijyOQjXxS3A4p+BQ==,74yFPUAZUkXwVpE7ksxCGeF4pZhUtMcy61yngo1TwW58BF17MEJdWaEBbrdmW2YqvqNWOwjgQOxMriMBcczmcoqka/FQ8+cTCLUvtdRDYmECg890xhPmOw4aakGBrEnqw7KPcJMY1foZ514lXqMoniA=\r\n",
      "1619,1625,m74vR40TQ/bD7k5a,xfuewc7p4sZY11YrpOYZUA==,MM/xNTmFnnM6z3rDYWuvrsZU88Y2q7UX8pQUk0dLEcs0/yfPZqinkCCqoWBgBu2TobdrXGS8dOlzNpGYk1FalIeXrpwua2Dspmbj5U8ulJ376QMjAU4WzRh5xUt5+EtYFw2xyvW9kjrElU7OhqNv6Q==\r\n",
      "1620,1625,h49FdP3kIf4YTAbR,Pb1f/CEKbhtB5ct1eNYLiw==,RM0ssZ4jaAXrO+gBVA3dXWPszMD+drEpoRgSJbBHZJ3yGM3ho6pOdirmNnmo+uhUZMxp747UygjFh6mMjLWDHL6VHXN9GifiGWEQohQAEIWgSTSiWj3fhuIaGCbTyek3YuotMnJDSqxyQ9ZLuoftwQ==\r\n",
      "1621,1625,PpVzzqEMO+kewGvL,MW4U/Balm3p160bV5R6xHw==,A2TN9BayGkSOSYJe7PzEAUEDdo2zh67Mb5NF8eAoHZtuaePefemiBvBc8uivTnYKHFBXZC1yXEOvBWv1srbQFQhDh25v5XwXWLG6doLrE49unRZOuCVAaWiHv7ATfkZT6IZ+lqMjDl2qCohfahfL2A==\r\n",
      "1622,1625,MeGeP2eqIyGWFkzG,tVl+zrujtuxfPReVKokGOw==,/JViO0H4HGTje35cOZmwBKbsP3R8EamzjFelB+VW4Q7vbf6EhAOxnu7Svau6Dctl8lBS4kVcVy8VBcrPc9WGmgHVkgRE9fqnROOoZkM3vIOdpEpj01NkI+pNtABCrAKT/vGHCl9t3QFMlYz7Eo4jDN4=\r\n",
      "1623,1625,Lj0JwGqReTQAfQ4h,+vZmE5u8CwKHisOVFGFpfw==,XZVroMBPevtZYwkOaVaS++EHl7SetmBBITnBMPFv1p4q64Ud2wASkHX7QaCib4J1pQai98B4MmdP1ybSgL03zfeSFG6VoohUBA+8yJc1byW0XNPqVfc1P3fRnwXpu70UpoOldywV7iQEKZg3wZYU0g==\r\n",
      "1624,1625,gCaGXV5hw7YEBiik,2zejE8YBF2xJm6TLqBjJVQ==,D16GZHoomUHqdpie9PqklVhym81pAeql24gfsqidW/+8MWpH1NlT2MdQb6rCZjnb+cXB7tXYg0BoGOKR6hTMJg48PUCU218dqn7zXn8O9YZF+5XBbc4iLF5fyJZE8YUU6hyyRYwbBGDDVxEAVn3Pz9BW\r\n",
      "1625,1625,lX/R85JbWCmI5yyC,zcKaV2CJZX2vCc/ZK5I/RA==,fgAZzEGX/+DOj8PwFu7sUKe8kKKhzLE5FxTVOQQL6cZXcf/A/dQ4ktJBZ9wdyWzvHGzi/x4V8Mp0ArB1b5ACaUzPwjmekt/X0FhU1rf9gvOw40kLhttRy3zgDLu3+Q1NxjiEGGxgv3jqvfcFmO4oxjQ=\r\n"
     ]
    }
   ],
   "source": [
    "# TODO: fill in your username\n",
    "!tail -n 10 /home/mc2/risecamp/mc2/tutorial/data/chester_train.enc"
   ]
  },
  {
   "cell_type": "code",
   "execution_count": 9,
   "metadata": {},
   "outputs": [
    {
     "name": "stdout",
     "output_type": "stream",
     "text": [
      "Stored 'username' (str)\n",
      "Stored 'PUB_KEY' (str)\n",
      "Stored 'CERT_FILE' (str)\n",
      "Stored 'KEY_FILE' (str)\n",
      "Stored 'enc_training_data' (str)\n",
      "Stored 'enc_test_data' (str)\n",
      "Stored 'cwd' (str)\n"
     ]
    }
   ],
   "source": [
    "# Run this cell to store variables for use in subsequent notebooks\n",
    "%store username\n",
    "%store PUB_KEY \n",
    "%store CERT_FILE \n",
    "%store KEY_FILE \n",
    "%store enc_training_data \n",
    "%store enc_test_data\n",
    "%store cwd"
   ]
  },
  {
   "cell_type": "markdown",
   "metadata": {},
   "source": [
    "**Once you've finished this step, wait for breakout rooms to reconverge.**"
   ]
  },
  {
   "cell_type": "markdown",
   "metadata": {},
   "source": [
    "## 3. Enclave server setup\n",
    "While in practice there'll be an enclave server controlled by no one party, to complete this tutorial one party in the collaboration will have to act as both a party and the enclave server. Designate one person in the collaboration to control the enclave server.\n",
    "\n",
    "If you've been designated as the enclave server, click [here](./Exercise 2.ipynb) to go to the next notebook. You'll have to set up the enclave server before everyone can begin training. \n",
    "\n",
    "Otherwise, click [here](./Exercise 2 - Mirror.ipynb)."
   ]
  }
 ],
 "metadata": {
  "kernelspec": {
   "display_name": "Python 3",
   "language": "python",
   "name": "python3"
  },
  "language_info": {
   "codemirror_mode": {
    "name": "ipython",
    "version": 3
   },
   "file_extension": ".py",
   "mimetype": "text/x-python",
   "name": "python",
   "nbconvert_exporter": "python",
   "pygments_lexer": "ipython3",
   "version": "3.6.9"
  }
 },
 "nbformat": 4,
 "nbformat_minor": 2
}
