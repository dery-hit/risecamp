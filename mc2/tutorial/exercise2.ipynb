{
 "cells": [
  {
   "cell_type": "markdown",
   "metadata": {},
   "source": [
    "## Client Collaboration\n",
    "First, let's set up our client. Fill in the same username you used in the previous notebook to generate your certificate."
   ]
  },
  {
   "cell_type": "code",
   "execution_count": null,
   "metadata": {},
   "outputs": [],
   "source": [
    "import securexgboost as mc2\n",
    "from Utils import *"
   ]
  },
  {
   "cell_type": "code",
   "execution_count": null,
   "metadata": {},
   "outputs": [],
   "source": [
    "# TODO: fill in the IP of the enclave server\n",
    "server_ip = \"104.211.33.210\"\n",
    "server_port = \"50052\" \n",
    "remote_addr = server_ip + \":\" + server_port "
   ]
  },
  {
   "cell_type": "code",
   "execution_count": null,
   "metadata": {},
   "outputs": [],
   "source": [
    "# Get variables from previous notebooks\n",
    "%store -r "
   ]
  },
  {
   "cell_type": "markdown",
   "metadata": {},
   "source": [
    "## Data Transfer\n",
    "Next, centralize the data by send your training and test data to the person controlling the enclave server. The `transfer_data()` function below is a Python wrapper around the command line `scp` function."
   ]
  },
  {
   "cell_type": "code",
   "execution_count": null,
   "metadata": {},
   "outputs": [],
   "source": [
    "transfer_data(enc_training_data, server_ip)\n",
    "transfer_data(enc_test_data, server_ip)"
   ]
  },
  {
   "cell_type": "markdown",
   "metadata": {},
   "source": [
    "## Client Initialization and Authentication\n",
    "Once everyone has sent their data to the server, we can initialize our client."
   ]
  },
  {
   "cell_type": "code",
   "execution_count": null,
   "metadata": {},
   "outputs": [],
   "source": [
    "# Run this cell to initialize your client\n",
    "\n",
    "# TODO: fill out `client_list`\n",
    "clients = []\n",
    "mc2.init_client(user_name=username, client_list=clients, sym_key_file=KEY_FILE, priv_key_file=PUB_KEY, cert_file=CERT_FILE, remote_addr=remote_addr)"
   ]
  },
  {
   "cell_type": "markdown",
   "metadata": {},
   "source": [
    "Before we perform any computation, we want to attest that the remote enclave on the untrusted server has loaded the proper code. Secure XGBoost provides this functionality through the `attest()` API."
   ]
  },
  {
   "cell_type": "code",
   "execution_count": null,
   "metadata": {},
   "outputs": [],
   "source": [
    "# Verify that the enclave has been set up correctly\n",
    "mc2.attest()"
   ]
  },
  {
   "cell_type": "markdown",
   "metadata": {},
   "source": [
    "## Collaborative Training\n",
    "Once we've authenticated the enclave, we can begin making requests to the enclave server. MC<sup>2</sup> enables users to make requests through a Python API, but will only execute requests once all users in the collaboration have submitted the same request. Consequently, users must submit the exact same requests in the exact order if they want to collaboratively compute. \n",
    "\n",
    "Let's first prepare for training by loading everyone's encrypted training data within the enclave. Parties transferred their data to the central server's `/home/mc2/risecamp/mc2/tutorial/central/` directory. Each party with username `usr` named their training data `user_train.enc`."
   ]
  },
  {
   "cell_type": "code",
   "execution_count": null,
   "metadata": {},
   "outputs": [],
   "source": [
    "central_data_dir = \"/home/mc2/risecamp/mc2/tutorial/central/\""
   ]
  },
  {
   "cell_type": "markdown",
   "metadata": {},
   "source": [
    "Fill in the paths to each party's training data. MC<sup>2</sup>'s `DMatrix()` function takes in a dictionary \n",
    "\n",
    "`{\"username1\": \"/path/to/user1/data\", \"username2\": \"/path/to/user2/data\"}`. "
   ]
  },
  {
   "cell_type": "code",
   "execution_count": null,
   "metadata": {},
   "outputs": [],
   "source": [
    "# TODO: fill in usernames and training data paths\n",
    "\n",
    "#####################################################################################################################\n",
    "# For example if the collaboration has two users, `user1` and `user2`, \n",
    "# the following line would look like\n",
    "#\n",
    "# dtrain = mc2.DMatrix({\"user1\": central_data_dir + \"user1_train.enc\", \"user2\": central_data_dir + \"user2_train.enc})\n",
    "#####################################################################################################################\n",
    "\n",
    "dtrain = mc2.DMatrix({\"u1\": central_data_dir + \"u1_train.enc\", \n",
    "                      \"u2\": central_data_dir + \"u2_train.enc\",\n",
    "                      \"u3\": central_data_dir + \"u3_train.enc\", \n",
    "                      \"u4\": central_data_dir + \"u4_train.enc\"})"
   ]
  },
  {
   "cell_type": "code",
   "execution_count": null,
   "metadata": {},
   "outputs": [],
   "source": [
    "# Set parameters\n",
    "params = {\n",
    "        \"tree_method\": \"hist\",\n",
    "        \"n_gpus\": \"0\",\n",
    "        \"objective\": \"binary:logistic\",\n",
    "        \"min_child_weight\": \"1\",\n",
    "        \"gamma\": \"0.1\",\n",
    "        \"max_depth\": \"3\",\n",
    "        \"verbosity\": \"1\" \n",
    "}\n",
    "\n",
    "num_rounds = 10\n",
    "booster = mc2.train(params, dtrain, num_rounds)"
   ]
  },
  {
   "cell_type": "markdown",
   "metadata": {},
   "source": [
    "## Prediction Serving\n",
    "Once we've jointly trained a model, we'll use the model to serve predictions on each party's test data. Each party should load its data into a separate object so that the model will output a set predictions on only its test data. Predictions served by MC<sup>2</sup> are encrypted and can only be decrypted by the owner of the test data.\n",
    "\n",
    "Remember that a request can only be executed if every party allows it. As a result, we'll need to submit a request to load test data for _every party_. "
   ]
  },
  {
   "cell_type": "code",
   "execution_count": null,
   "metadata": {},
   "outputs": [],
   "source": [
    "# Load everyone's test data\n",
    "\n",
    "# TODO: fill in usernames and test data paths\n",
    "dtest1 = mc2.DMatrix({<****>: central_data_dir + <****>})\n",
    "dtest2 = mc2.DMatrix({<****>: central_data_dir + <****>})\n",
    "dtest3 = mc2.DMatrix({<****>: central_data_dir + <****>})\n",
    "dtest4 = mc2.DMatrix({<****>: central_data_dir + <****>})"
   ]
  },
  {
   "cell_type": "markdown",
   "metadata": {},
   "source": [
    "Once we've loaded each party's test data, we'll need to ask MC<sup>2</sup> to serve predictions on each set of test data. However, we only want (and will only be able to decrypt) the predictions on our test data, so only store the return value of the `predict()` function called on our test data.\n",
    "\n",
    "The `predict()` function returns two values: `(encrypted_predictions, num_predictions)`."
   ]
  },
  {
   "cell_type": "code",
   "execution_count": null,
   "metadata": {},
   "outputs": [],
   "source": [
    "# Allow everyone to get their predictions\n",
    "\n",
    "##################################################################################################\n",
    "# Remember to store the predictions on your test data. For example, if you own `dtest3`, your code\n",
    "# should look like the following\n",
    "#\n",
    "#   booster.predict(dtest1, decrypt=False)\n",
    "#   booster.predict(dtest2, decrypt=False)\n",
    "#   enc_preds, num_preds = booster.predict(dtest3, decrypt=False)\n",
    "#   booster.predict(dtest4, decrypt=False)\n",
    "##################################################################################################\n",
    "\n",
    "booster.predict(dtest1, decrypt=False)\n",
    "booster.predict(dtest2, decrypt=False)\n",
    "booster.predict(dtest3, decrypt=False)\n",
    "booster.predict(dtest4, decrypt=False)"
   ]
  },
  {
   "cell_type": "code",
   "execution_count": null,
   "metadata": {},
   "outputs": [],
   "source": [
    "# Decrypt our predictions\n",
    "preds = booster.decrypt_predictions(enc_preds, num_preds)\n",
    "print(preds)"
   ]
  },
  {
   "cell_type": "code",
   "execution_count": null,
   "metadata": {},
   "outputs": [],
   "source": []
  }
 ],
 "metadata": {
  "kernelspec": {
   "display_name": "Python 3",
   "language": "python",
   "name": "python3"
  },
  "language_info": {
   "codemirror_mode": {
    "name": "ipython",
    "version": 3
   },
   "file_extension": ".py",
   "mimetype": "text/x-python",
   "name": "python",
   "nbconvert_exporter": "python",
   "pygments_lexer": "ipython3",
   "version": "3.6.9"
  }
 },
 "nbformat": 4,
 "nbformat_minor": 2
}
