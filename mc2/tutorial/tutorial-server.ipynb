{
 "cells": [
  {
   "cell_type": "markdown",
   "metadata": {},
   "source": [
    "## Server Setup\n",
    "We'll next need to launch the enclave server. "
   ]
  },
  {
   "cell_type": "code",
   "execution_count": 1,
   "metadata": {},
   "outputs": [],
   "source": [
    "import securexgboost as xgb"
   ]
  },
  {
   "cell_type": "code",
   "execution_count": null,
   "metadata": {},
   "outputs": [
    {
     "name": "stdout",
     "output_type": "stream",
     "text": [
      "Waiting for clients...\n",
      "Error type: <class 'securexgboost.core.XGBoostError'>\n",
      "Error value: [16011510] /home/mc2/secure-xgboost/enclave/dmlc-core/src/io/local_filesys.cc:111: LocalFileSystem.ListDirectory data error: No such file or directory\n",
      "Stack trace:\n",
      "  [bt] (0) _ZN4dmlc2io15LocalFileSystem13ListDirectoryERKNS0_3URIEPNSt3__16vectorINS0_8FileInfoENS5_9allocatorIS7_EEEE\n",
      "  [bt] (1) _ZN4dmlc2io14InputSplitBase13ConvertToURIsERKNSt3__112basic_stringIcNS2_11char_traitsIcEENS2_9allocatorIcEEEE\n",
      "  [bt] (2) _ZN4dmlc2io14InputSplitBase17InitInputFileInfoERKNSt3__112basic_stringIcNS2_11char_traitsIcEENS2_9allocatorIcEEEEb\n",
      "  [bt] (3) _ZN4dmlc2io14InputSplitBase4InitEPNS0_10FileSystemEPKcmb\n",
      "  [bt] (4) _ZN4dmlc10InputSplit6CreateEPKcS2_jjS2_bimb\n",
      "  [bt] (5) _ZN4dmlc10InputSplit6CreateEPKcjjS2_\n",
      "  [bt] (6) _ZN4dmlc4data18CreateLibSVMParserIjfEEPNS_6ParserIT_fEERKNSt3__112basic_stringIcNS6_11char_traitsIcEENS6_9allocatorIcEEEERKNS6_3mapISC_SC_NS6_4lessISC_EENSA_INS6_4pairISD_SC_EEEEEEjjbPKc\n",
      "  [bt] (7) _ZN4dmlc4data13CreateParser_IjfEEPNS_6ParserIT_T0_EEPKcjjS8_bS8_\n",
      "  [bt] (8) _ZN7xgboost7DMatrix4LoadERNSt3__16vectorIKNS1_12basic_stringIcNS1_11char_traitsIcEENS1_9allocatorIcEEEENS6_IS9_EEEEbbbPPcRS9_m\n",
      "\n",
      "\n"
     ]
    },
    {
     "name": "stderr",
     "output_type": "stream",
     "text": [
      "  File \"/usr/local/lib/python3.6/dist-packages/securexgboost-0.1-py3.6.egg/securexgboost/remote_server.py\", line 542, in rpc_XGDMatrixCreateFromEncryptedFile\n",
      "    dmatrix_handle, sig, sig_len = remote_api.XGDMatrixCreateFromEncryptedFile(request, signers, signatures, sig_lengths)\n",
      "  File \"/usr/local/lib/python3.6/dist-packages/securexgboost-0.1-py3.6.egg/securexgboost/core.py\", line 2881, in XGDMatrixCreateFromEncryptedFile\n",
      "    c_sig_lengths))\n",
      "  File \"/usr/local/lib/python3.6/dist-packages/securexgboost-0.1-py3.6.egg/securexgboost/core.py\", line 202, in _check_call\n",
      "    raise XGBoostError(py_str(_LIB.XGBGetLastError()))\n"
     ]
    }
   ],
   "source": [
    "enclave_image = \"/home/mc2/secure-xgboost/build/enclave/xgboost_enclave.signed\"\n",
    "# Serve the enclave server on 50051\n",
    "\n",
    "# TODO: fill in `all_users` with the usernames of all parties in the collaboration\n",
    "xgb.init_server(enclave_image=enclave_image, client_list=[\"chief\"], log_verbosity=0)\n",
    "print(\"Waiting for clients...\")\n",
    "xgb.serve(all_users=[\"chief\"], port=50051)"
   ]
  },
  {
   "cell_type": "markdown",
   "metadata": {},
   "source": [
    "The cell above should run continuously, as the server is now up and listening for requests. Move to the [next notebook](./tutorial-client.ipynb) to set up your client."
   ]
  },
  {
   "cell_type": "code",
   "execution_count": null,
   "metadata": {},
   "outputs": [],
   "source": []
  }
 ],
 "metadata": {
  "kernelspec": {
   "display_name": "Python 3",
   "language": "python",
   "name": "python3"
  },
  "language_info": {
   "codemirror_mode": {
    "name": "ipython",
    "version": 3
   },
   "file_extension": ".py",
   "mimetype": "text/x-python",
   "name": "python",
   "nbconvert_exporter": "python",
   "pygments_lexer": "ipython3",
   "version": "3.6.9"
  }
 },
 "nbformat": 4,
 "nbformat_minor": 2
}
