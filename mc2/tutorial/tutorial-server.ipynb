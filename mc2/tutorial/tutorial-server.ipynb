{
 "cells": [
  {
   "cell_type": "markdown",
   "metadata": {},
   "source": [
    "## Server Setup\n",
    "We'll next need to launch the enclave server. "
   ]
  },
  {
   "cell_type": "code",
   "execution_count": 1,
   "metadata": {},
   "outputs": [],
   "source": [
    "import securexgboost as xgb"
   ]
  },
  {
   "cell_type": "code",
   "execution_count": null,
   "metadata": {},
   "outputs": [
    {
     "name": "stdout",
     "output_type": "stream",
     "text": [
      "Launched enclave\n",
      "Waiting for clients...\n"
     ]
    }
   ],
   "source": [
    "enclave_image = \"/home/mc2/secure-xgboost/build/enclave/xgboost_enclave.signed\"\n",
    "# Serve the enclave server on 50051\n",
    "\n",
    "# TODO: fill in `all_users` with the usernames of all parties in the collaboration\n",
    "xgb.init_server(enclave_image=enclave_image, client_list=[\"chief\", \"chester\"], log_verbosity=0)\n",
    "print(\"Waiting for clients...\")\n",
    "xgb.serve(all_users=[\"chief\", \"chester\"], port=50051)"
   ]
  },
  {
   "cell_type": "markdown",
   "metadata": {},
   "source": [
    "The cell above should run continuously, as the server is now up and listening for requests. Move to the [next notebook](./tutorial-client.ipynb) to set up your client."
   ]
  },
  {
   "cell_type": "code",
   "execution_count": null,
   "metadata": {},
   "outputs": [],
   "source": []
  }
 ],
 "metadata": {
  "kernelspec": {
   "display_name": "Python 3",
   "language": "python",
   "name": "python3"
  },
  "language_info": {
   "codemirror_mode": {
    "name": "ipython",
    "version": 3
   },
   "file_extension": ".py",
   "mimetype": "text/x-python",
   "name": "python",
   "nbconvert_exporter": "python",
   "pygments_lexer": "ipython3",
   "version": "3.6.9"
  }
 },
 "nbformat": 4,
 "nbformat_minor": 2
}
