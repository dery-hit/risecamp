{
 "cells": [
  {
   "cell_type": "markdown",
   "metadata": {},
   "source": [
    "# MC<sup>2</sup>\n",
    "This tutorial demonstrates how to use [MC<sup>2</sup>](https://github.com/mc2-project/mc2) (<b>M</b>ultiparty <b>C</b>ollaboration and <b>C</b>ompetition), our platform that enables collaborating parties to jointly perform analytics and train machine learning models on their sensitive data without sharing the contents of the data. In particular, this tutorial focuses on a module of MC<sup>2</sup> that supports gradient boosted decision tree learning, [Secure XGBoost](https://github.com/mc2-project/secure-xgboost).\n",
    "\n",
    "Secure XGBoost leverages secure enclaves, e.g. Intel SGX, to perform computation in a secure environment. Parties can send their encrypted data to an untrusted server hosting Secure XGBoost, which will then load the data into an enclave before decrypting it. Since enclaves provide encrypted regions of memory, even the OS, hypervisor, and other (privileged) processes on the same machine won't be able to see the unencrypted data or intermediate results during computation.\n",
    "\n",
    "However, secure enclaves have been shown to be vulnerable to a whole host of side-channel attacks. To combat this, Secure XGBoost redesigns GBDT learning algorithms to be data-oblivious, i.e. to make memory accesses independent of input. The use of data-oblivous algorithms eliminates a large class of leakage that side-channel attacks rely on to extract information.\n",
    "\n",
    "Secure XGBoost's architecture is shown below. Clients make requests to a central untrusted RPC orchestrator, which queues up requests and relays each request to each enclave server once all parties have made a particular request. Computation happens in a distributed manner across the enclave cluster.\n",
    "\n",
    "![Secure XGBoost architecture](figures/sys-arch.png)"
   ]
  },
  {
   "cell_type": "markdown",
   "metadata": {},
   "source": [
    "In this tutorial, we'll break everyone into small groups -- each group will be collaborating to jointly train a decision tree model. While in practice there will exist a central enclave server controlled by no one member of the party, in this tutorial one member per group will start the RPC enclave server that enables clients to jointly orchestrate a training pipeline that will run inside an enclave. All group members will submit requests to jointly execute the pipeline.\n",
    "\n",
    "MC<sup>2</sup> is open source and available on [GitHub](https://github.com/mc2-project/mc2)."
   ]
  },
  {
   "cell_type": "markdown",
   "metadata": {},
   "source": [
    "## 1. User Setup\n",
    "We'll first need to set up your user by inputting a username, generating a keypair, generating a certificate, and generating a symmetric key."
   ]
  },
  {
   "cell_type": "code",
   "execution_count": null,
   "metadata": {},
   "outputs": [],
   "source": [
    "import securexgboost as mc2\n",
    "from Utils import *\n",
    "\n",
    "# TODO: Enter your username below\n",
    "username = \"chief\"\n",
    "cwd = \"/home/mc2/risecamp/mc2/tutorial/\""
   ]
  },
  {
   "cell_type": "code",
   "execution_count": null,
   "metadata": {},
   "outputs": [],
   "source": [
    "# Run this cell to generate a keypair and a certificate\n",
    "generate_certificate(username)\n",
    "PUB_KEY = \"config/{0}.pem\".format(username)\n",
    "CERT_FILE = \"config/{0}.crt\".format(username)"
   ]
  },
  {
   "cell_type": "code",
   "execution_count": null,
   "metadata": {},
   "outputs": [],
   "source": [
    "# Run this cell to generate a symmetric key\n",
    "KEY_FILE = \"key.txt\"\n",
    "mc2.generate_client_key(KEY_FILE)"
   ]
  },
  {
   "cell_type": "markdown",
   "metadata": {},
   "source": [
    "## 2. Data Encryption\n"
   ]
  },
  {
   "cell_type": "markdown",
   "metadata": {},
   "source": [
    "Let's first take a look at our training data. Our data is located at `/home/mc2/risecamp/mc2/tutorial/data/1_2agaricus.txt.train` and is in LibSVM format."
   ]
  },
  {
   "cell_type": "code",
   "execution_count": null,
   "metadata": {},
   "outputs": [],
   "source": [
    "!tail -n 10 /home/mc2/risecamp/mc2/tutorial/data/1_2agaricus.txt.train"
   ]
  },
  {
   "cell_type": "markdown",
   "metadata": {},
   "source": [
    "Next, use the symmetric key generated above to encrypt your data. Your training data is located at path, and your test data is located at path."
   ]
  },
  {
   "cell_type": "code",
   "execution_count": null,
   "metadata": {},
   "outputs": [],
   "source": [
    "# Run this cell to encrypt your training data\n",
    "training_data = \"data/1_2agaricus.txt.train\"\n",
    "enc_training_data = cwd + \"data/{}_train.enc\".format(username)\n",
    "\n",
    "# Encrypt training data\n",
    "mc2.encrypt_file(training_data, enc_training_data, KEY_FILE)"
   ]
  },
  {
   "cell_type": "code",
   "execution_count": null,
   "metadata": {},
   "outputs": [],
   "source": [
    "# Run this cell to encrypt your test data\n",
    "test_data = \"data/agaricus.txt.test\"\n",
    "enc_test_data = cwd + \"data/{}_test.enc\".format(username)\n",
    "\n",
    "# Encrypt test data\n",
    "mc2.encrypt_file(test_data, enc_test_data, KEY_FILE)"
   ]
  },
  {
   "cell_type": "markdown",
   "metadata": {},
   "source": [
    "Once we've encrypted our data, let's take a look to confirm it's encrypted."
   ]
  },
  {
   "cell_type": "code",
   "execution_count": null,
   "metadata": {},
   "outputs": [],
   "source": [
    "# TODO: fill in your username\n",
    "!tail -n 10 /home/mc2/risecamp/mc2/tutorial/data/chief_train.enc"
   ]
  },
  {
   "cell_type": "code",
   "execution_count": null,
   "metadata": {},
   "outputs": [],
   "source": [
    "# Store variables for use in subsequent notebooks\n",
    "%store username\n",
    "%store PUB_KEY \n",
    "%store CERT_FILE \n",
    "%store KEY_FILE \n",
    "%store enc_training_data \n",
    "%store enc_test_data\n",
    "%store cwd"
   ]
  },
  {
   "cell_type": "markdown",
   "metadata": {},
   "source": [
    "Once you've finished this step, wait for breakout rooms to reconverge. "
   ]
  },
  {
   "cell_type": "markdown",
   "metadata": {},
   "source": [
    "## 3. Enclave server setup\n",
    "While in practice there'll be an enclave server controlled by no one party, to complete this tutorial one party in the collaboration will have to act as both a party and the enclave server. Designate one person in the collaboration to control the enclave server.\n",
    "\n",
    "If you've been designated as the enclave server, click [here](./rpc-orchestrator.ipynb) to go to the next notebook. You'll have to set up the enclave server before everyone can begin training. \n",
    "\n",
    "Otherwise, click [here](./tutorial-client.ipynb)."
   ]
  },
  {
   "cell_type": "code",
   "execution_count": null,
   "metadata": {},
   "outputs": [],
   "source": []
  }
 ],
 "metadata": {
  "kernelspec": {
   "display_name": "Python 3",
   "language": "python",
   "name": "python3"
  },
  "language_info": {
   "codemirror_mode": {
    "name": "ipython",
    "version": 3
   },
   "file_extension": ".py",
   "mimetype": "text/x-python",
   "name": "python",
   "nbconvert_exporter": "python",
   "pygments_lexer": "ipython3",
   "version": "3.6.9"
  }
 },
 "nbformat": 4,
 "nbformat_minor": 2
}
