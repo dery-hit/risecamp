{
 "cells": [
  {
   "cell_type": "markdown",
   "metadata": {},
   "source": [
    "# MC<sup>2</sup>\n",
    "This tutorial demonstrates how to use MC<sup>2</sup> (<b>M</b>Multiparty <b>C</b>ollaboration and <b>C</b>ompetition), our platform that enables collaborating parties to jointly perform analytics and train machine learning models on their sensitive data without sharing the contents of the data. \n",
    "\n",
    "In this tutorial, we'll break everyone into small groups -- each group will be collaborating to jointly train a decision tree model. While in practice there will exist a central enclave server controlled by no one member of the party, in this tutorial one member per group will start the RPC enclave server that enables clients to jointly orchestrate a training pipeline that will run inside an enclave. All group members will submit requests to the enclave server to jointly execute the pipeline.\n",
    "\n",
    "MC<sup>2</sup> is open source and available on [GitHub](https://github.com/mc2-project/mc2)."
   ]
  },
  {
   "cell_type": "markdown",
   "metadata": {},
   "source": [
    "# 1. Setup\n",
    "We'll first need to set up your user by inputting a username, generating a keypair, generating a certificate, and generating a symmetric key."
   ]
  },
  {
   "cell_type": "code",
   "execution_count": 12,
   "metadata": {},
   "outputs": [
    {
     "name": "stdout",
     "output_type": "stream",
     "text": [
      "The autoreload extension is already loaded. To reload it, use:\n",
      "  %reload_ext autoreload\n"
     ]
    }
   ],
   "source": [
    "%load_ext autoreload\n",
    "%autoreload 2\n",
    "\n",
    "import securexgboost as mc2\n",
    "import os\n",
    "from Utils import *\n",
    "\n",
    "# TODO: Enter your username below\n",
    "username = \"chief\"\n",
    "cwd = \"/home/mc2/risecamp/mc2/tutorial/\""
   ]
  },
  {
   "cell_type": "code",
   "execution_count": 2,
   "metadata": {},
   "outputs": [
    {
     "name": "stdout",
     "output_type": "stream",
     "text": [
      "Generating keypair\n",
      "Generating RSA private key, 3072 bit long modulus (2 primes)\n",
      "........................................................................++++\n",
      ".........................................................................................................................++++\n",
      "e is 3 (0x03)\n",
      "Generating CSR\n",
      "Signing CSR\n",
      "Signature ok\n",
      "subject=CN = chief\n",
      "Getting CA Private Key\n"
     ]
    }
   ],
   "source": [
    "# Run this cell to generate a keypair and a certificate\n",
    "generate_certificate(username)\n",
    "PUB_KEY = \"config/{0}.pem\".format(username)\n",
    "CERT_FILE = \"config/{0}.crt\".format(username)"
   ]
  },
  {
   "cell_type": "code",
   "execution_count": 3,
   "metadata": {},
   "outputs": [],
   "source": [
    "# Run this cell to generate a symmetric key\n",
    "KEY_FILE = \"key.txt\"\n",
    "mc2.generate_client_key(KEY_FILE)"
   ]
  },
  {
   "cell_type": "markdown",
   "metadata": {},
   "source": [
    "## 2. Data Encryption\n",
    "Use the symmetric key generated above to encrypt your data. Your training data is located at path, and your test data is located at path."
   ]
  },
  {
   "cell_type": "code",
   "execution_count": 13,
   "metadata": {},
   "outputs": [],
   "source": [
    "training_data = \"data/1_2agaricus.txt.train\"\n",
    "# TODO: give your encrypted training data a unique name, perhaps including your username\n",
    "enc_training_data = cwd + \"data/{}_train.enc\".format(username)\n",
    "\n",
    "# Encrypt training data\n",
    "mc2.encrypt_file(training_data, enc_training_data, KEY_FILE)"
   ]
  },
  {
   "cell_type": "code",
   "execution_count": 14,
   "metadata": {},
   "outputs": [],
   "source": [
    "test_data = \"data/agaricus.txt.test\"\n",
    "enc_test_data = cwd + \"data/{}_test.enc\".format(username)\n",
    "\n",
    "# Encrypt test data\n",
    "mc2.encrypt_file(test_data, enc_test_data, KEY_FILE)"
   ]
  },
  {
   "cell_type": "code",
   "execution_count": 15,
   "metadata": {},
   "outputs": [
    {
     "name": "stdout",
     "output_type": "stream",
     "text": [
      "Stored 'username' (str)\n",
      "Stored 'PUB_KEY' (str)\n",
      "Stored 'CERT_FILE' (str)\n",
      "Stored 'KEY_FILE' (str)\n",
      "Stored 'enc_training_data' (str)\n",
      "Stored 'enc_test_data' (str)\n"
     ]
    }
   ],
   "source": [
    "# Store variables for use in subsequent notebooks\n",
    "%store username\n",
    "%store PUB_KEY \n",
    "%store CERT_FILE \n",
    "%store KEY_FILE \n",
    "%store enc_training_data \n",
    "%store enc_test_data"
   ]
  },
  {
   "cell_type": "markdown",
   "metadata": {},
   "source": [
    "## 3. Enclave server setup\n",
    "While in practice there'll be an enclave server controlled by no one party, to complete this tutorial one party in the collaboration will have to act as both a party and the enclave server. Designate one person in the collaboration to control the enclave server.\n",
    "\n",
    "If you've been designated as the enclave server, click [here](./rpc-orchestrator.ipynb) to go to the next notebook. You'll have to set up the enclave server before everyone can begin training. \n",
    "\n",
    "Otherwise, click [here](./tutorial-client.ipynb)."
   ]
  },
  {
   "cell_type": "code",
   "execution_count": null,
   "metadata": {},
   "outputs": [],
   "source": []
  }
 ],
 "metadata": {
  "kernelspec": {
   "display_name": "Python 3",
   "language": "python",
   "name": "python3"
  },
  "language_info": {
   "codemirror_mode": {
    "name": "ipython",
    "version": 3
   },
   "file_extension": ".py",
   "mimetype": "text/x-python",
   "name": "python",
   "nbconvert_exporter": "python",
   "pygments_lexer": "ipython3",
   "version": "3.6.9"
  }
 },
 "nbformat": 4,
 "nbformat_minor": 2
}
