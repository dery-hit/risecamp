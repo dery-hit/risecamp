{
 "cells": [
  {
   "cell_type": "markdown",
   "metadata": {},
   "source": [
    "#  Starting the RPC Orchestrator\n",
    "The RPC orchestrator coordinates client requests and relays them to the enclave server. We'll need to start the RPC orchestrator before starting the enclave server.\n",
    "\n",
    "![Orchestrator circled](figures/sys-orch-circled.png)"
   ]
  },
  {
   "cell_type": "code",
   "execution_count": null,
   "metadata": {},
   "outputs": [],
   "source": [
    "import securexgboost as mc2\n",
    "\n",
    "# TODO: fill in `clients` with the usernames of all parties in the collaboration\n",
    "clients = [<****>]\n",
    "mc2.serve(all_users=clients, nodes=[\"127.0.0.1\"], port=50052)"
   ]
  },
  {
   "cell_type": "markdown",
   "metadata": {},
   "source": [
    "The cell above should continue to run, as you've just started a RPC server to listen for requests. Once you've run the cell above, move to the next [notebook](./Exercise 1.3.ipynb)."
   ]
  },
  {
   "cell_type": "code",
   "execution_count": null,
   "metadata": {},
   "outputs": [],
   "source": []
  }
 ],
 "metadata": {
  "kernelspec": {
   "display_name": "Python 3",
   "language": "python",
   "name": "python3"
  },
  "language_info": {
   "codemirror_mode": {
    "name": "ipython",
    "version": 3
   },
   "file_extension": ".py",
   "mimetype": "text/x-python",
   "name": "python",
   "nbconvert_exporter": "python",
   "pygments_lexer": "ipython3",
   "version": "3.6.9"
  }
 },
 "nbformat": 4,
 "nbformat_minor": 2
}
