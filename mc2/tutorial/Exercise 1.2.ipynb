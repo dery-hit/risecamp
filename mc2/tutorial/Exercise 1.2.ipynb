{
 "cells": [
  {
   "cell_type": "markdown",
   "metadata": {},
   "source": [
    "#  Starting the RPC Orchestrator\n",
    "\n",
    "(Click [here](./Exercise 1.ipynb) if you want to go back to the previous notebook.)\n",
    "\n",
    "The RPC orchestrator coordinates client requests and relays them to the enclave server. We'll need to start the RPC orchestrator before starting the enclave server.\n",
    "\n",
    "![Orchestrator circled](figures/sys-orch-circled.png)"
   ]
  },
  {
   "cell_type": "markdown",
   "metadata": {},
   "source": [
    "**TODO:** Fill in the client list with usernames of all parties in the collaboration."
   ]
  },
  {
   "cell_type": "code",
   "execution_count": 1,
   "metadata": {},
   "outputs": [
    {
     "name": "stdout",
     "output_type": "stream",
     "text": [
      "launched enclave\n",
      "started enclave rpc server\n",
      "start rpc orchestrator\n",
      "Hello from the orchestrator!\n"
     ]
    }
   ],
   "source": [
    "from Utils import *\n",
    "\n",
    "clients = [\"chief\"]\n",
    "start_server(clients)"
   ]
  },
  {
   "cell_type": "markdown",
   "metadata": {},
   "source": [
    "The cell above should continue to run, as you've just started a RPC server to listen for requests. Once you've run the cell above, move to the next [notebook](./Exercise 1.3.ipynb)."
   ]
  },
  {
   "cell_type": "code",
   "execution_count": null,
   "metadata": {},
   "outputs": [],
   "source": []
  }
 ],
 "metadata": {
  "kernelspec": {
   "display_name": "Python 3",
   "language": "python",
   "name": "python3"
  },
  "language_info": {
   "codemirror_mode": {
    "name": "ipython",
    "version": 3
   },
   "file_extension": ".py",
   "mimetype": "text/x-python",
   "name": "python",
   "nbconvert_exporter": "python",
   "pygments_lexer": "ipython3",
   "version": "3.6.9"
  }
 },
 "nbformat": 4,
 "nbformat_minor": 2
}
