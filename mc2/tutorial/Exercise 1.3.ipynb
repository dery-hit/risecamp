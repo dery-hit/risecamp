{
 "cells": [
  {
   "cell_type": "markdown",
   "metadata": {},
   "source": [
    "# Starting the Enclave Server\n",
    "The enclave securely execute all requests from clients. In particular, computation on sensitive data happens in a secure environment, preventing other processes, the operating system, or the hypervisor from seeing either the sensitive data in plaintext or the intermediate computation. \n",
    "\n",
    "While MC<sup>2</sup> supports distributed computation, in this tutorial we'll use only one enclave. Run the cells below to start this enclave.\n",
    "\n",
    "![Enclave circled](figures/sys-enclave-circled.png)"
   ]
  },
  {
   "cell_type": "code",
   "execution_count": null,
   "metadata": {},
   "outputs": [],
   "source": [
    "import securexgboost as mc2"
   ]
  },
  {
   "cell_type": "markdown",
   "metadata": {},
   "source": [
    "**TODO:** Fill in the client list with usernames of all parties in the collaboration."
   ]
  },
  {
   "cell_type": "code",
   "execution_count": null,
   "metadata": {},
   "outputs": [],
   "source": [
    "enclave_image = \"/home/mc2/secure-xgboost/build/enclave/xgboost_enclave.signed\"\n",
    "\n",
    "# TODO: fill in `clients` with the usernames of all parties in the collaboration\n",
    "clients = [<****>]\n",
    "mc2.init_server(enclave_image=enclave_image, client_list=clients)\n",
    "mc2.serve(all_users=clients, port=50051)"
   ]
  },
  {
   "cell_type": "markdown",
   "metadata": {},
   "source": [
    "The cell above should continue to run, as the server is now up and listening for requests. Move to the [next notebook](./Exercise 2.ipynb) to collaborate with your group."
   ]
  },
  {
   "cell_type": "code",
   "execution_count": null,
   "metadata": {},
   "outputs": [],
   "source": []
  }
 ],
 "metadata": {
  "kernelspec": {
   "display_name": "Python 3",
   "language": "python",
   "name": "python3"
  },
  "language_info": {
   "codemirror_mode": {
    "name": "ipython",
    "version": 3
   },
   "file_extension": ".py",
   "mimetype": "text/x-python",
   "name": "python",
   "nbconvert_exporter": "python",
   "pygments_lexer": "ipython3",
   "version": "3.6.9"
  }
 },
 "nbformat": 4,
 "nbformat_minor": 2
}
