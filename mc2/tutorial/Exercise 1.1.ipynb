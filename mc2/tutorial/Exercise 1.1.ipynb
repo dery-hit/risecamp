{
 "cells": [
  {
   "cell_type": "markdown",
   "metadata": {},
   "source": [
    "# MC<sup>2</sup>\n",
    "This tutorial demonstrates how to use [MC<sup>2</sup>](https://github.com/mc2-project/mc2) (<b>M</b>ultiparty <b>C</b>ollaboration and <b>C</b>ompetition), our platform that enables collaborating parties to jointly perform analytics and train machine learning models on their sensitive data without sharing the contents of the data. In particular, this tutorial focuses on a module of MC<sup>2</sup> that supports gradient boosted decision tree learning, [Secure XGBoost](https://github.com/mc2-project/secure-xgboost).\n",
    "\n",
    "Secure XGBoost leverages secure enclaves, e.g. Intel SGX, to perform computation in a secure environment. Parties can send their encrypted data to an untrusted server hosting Secure XGBoost, which will then load the data into an enclave before decrypting it. Since enclaves provide encrypted regions of memory, even the OS, hypervisor, and other (privileged) processes on the same machine won't be able to see the unencrypted data or intermediate results during computation.\n",
    "\n",
    "However, secure enclaves have been shown to be vulnerable to a whole host of side-channel attacks. To combat this, Secure XGBoost redesigns GBDT learning algorithms to be data-oblivious, i.e. to make memory accesses independent of input. The use of data-oblivous algorithms eliminates a large class of leakage that side-channel attacks rely on to extract information.\n",
    "\n",
    "Secure XGBoost's architecture is shown below. Clients make requests to a central untrusted RPC orchestrator, which queues up requests and relays each request to each enclave server once all parties have made a particular request. Computation happens in a distributed manner across the enclave cluster.\n",
    "\n",
    "![Secure XGBoost architecture](figures/sys-arch.png)"
   ]
  },
  {
   "cell_type": "markdown",
   "metadata": {},
   "source": [
    "In this tutorial, we'll break everyone into small groups -- each group will be collaborating to jointly train a decision tree model. While in practice there will exist a central enclave server controlled by no one member of the party, in this tutorial one member per group will start the enclave server that enables clients to jointly orchestrate a training pipeline that will run inside an enclave. All group members will submit requests to jointly execute the pipeline.\n",
    "\n",
    "MC<sup>2</sup> is open source and available on [GitHub](https://github.com/mc2-project/mc2)."
   ]
  },
  {
   "cell_type": "markdown",
   "metadata": {},
   "source": [
    "## Mushroom Dataset\n",
    "In this tutorial we'll be using the [Mushroom Dataset](https://archive.ics.uci.edu/ml/datasets/mushroom). This dataset contains 22 features, each of which represents a physical characteristic of a particular mushroom sample. Labels in this dataset are binary, and represent whether a mushroom sample is edible. As a result, the datasets lends itself quite nicely to a binary classification task.\n",
    "\n",
    "<img src=\"figures/mushroom.png\" width=\"100\"/>\n",
    "\n",
    "Imagine that you're part of a mushroom enthusiast group, and have stumbled across some mushroom samples whose edibility is unknown even after much examination. You could of course decide to try eating them, but eating even one poisonous mushroom would lead to the end of your mushroom collection career. Instead, you decide to team up with a few other mushroom enthuasists and combine your data to train a more robust mushroom edibility classification model. \n",
    "\n",
    "However, collecting all your mushroom samples was hard work -- you don't want other mushroom enthuasists to have access to your hard earned data, and consequently don't want to share your data in plaintext."
   ]
  },
  {
   "cell_type": "markdown",
   "metadata": {},
   "source": [
    "## 1. User Setup\n",
    "We'll first need to set up your user by inputting a username, generating a keypair, generating a certificate, and generating a symmetric key.\n",
    "\n",
    "**TODO:** Create and enter a username."
   ]
  },
  {
   "cell_type": "code",
   "execution_count": 1,
   "metadata": {},
   "outputs": [],
   "source": [
    "import securexgboost as mc2\n",
    "from Utils import *\n",
    "\n",
    "# TODO: Enter your username below as a string. Ensure that your username doesn't\n",
    "# contain any spaces.\n",
    "username = \"chief\"\n",
    "cwd = \"/home/mc2/risecamp/mc2/tutorial/\""
   ]
  },
  {
   "cell_type": "code",
   "execution_count": 2,
   "metadata": {},
   "outputs": [
    {
     "name": "stdout",
     "output_type": "stream",
     "text": [
      "Generating keypair\n",
      "Generating RSA private key, 3072 bit long modulus (2 primes)\n",
      ".......................................................................++++\n",
      ".......++++\n",
      "e is 3 (0x03)\n",
      "Generating CSR\n",
      "Signing CSR\n",
      "Signature ok\n",
      "subject=CN = chief\n",
      "Getting CA Private Key\n"
     ]
    }
   ],
   "source": [
    "# Run this cell to generate a keypair and a certificate\n",
    "generate_certificate(username)\n",
    "PUB_KEY = \"config/{0}.pem\".format(username)\n",
    "CERT_FILE = \"config/{0}.crt\".format(username)"
   ]
  },
  {
   "cell_type": "code",
   "execution_count": 3,
   "metadata": {},
   "outputs": [],
   "source": [
    "# Run this cell to generate a symmetric key\n",
    "KEY_FILE = \"key.txt\"\n",
    "mc2.generate_client_key(KEY_FILE)"
   ]
  },
  {
   "cell_type": "markdown",
   "metadata": {},
   "source": [
    "## 2. Data Preparation\n"
   ]
  },
  {
   "cell_type": "markdown",
   "metadata": {},
   "source": [
    "Since attendees have been split into groups of 4, we've prepared four sets of training data, one set for each person in the group. Coordinate who will be using which set.\n",
    "\n",
    "Training data for each user is located at the following paths:\n",
    "* user 1: `/home/mc2/risecamp/mc2/tutorial/data/agaricus1.txt`\n",
    "* user 2: `/home/mc2/risecamp/mc2/tutorial/data/agaricus2.txt`\n",
    "* user 3: `/home/mc2/risecamp/mc2/tutorial/data/agaricus3.txt`\n",
    "* user 4: `/home/mc2/risecamp/mc2/tutorial/data/agaricus4.txt`\n",
    "\n",
    "Test data for each use is located at the following paths:\n",
    "* user 1: `/home/mc2/risecamp/mc2/tutorial/data/agaricus1.txt.test`\n",
    "* user 2: `/home/mc2/risecamp/mc2/tutorial/data/agaricus2.txt.test`\n",
    "* user 3: `/home/mc2/risecamp/mc2/tutorial/data/agaricus3.txt.test`\n",
    "* user 4: `/home/mc2/risecamp/mc2/tutorial/data/agaricus4.txt.test`"
   ]
  },
  {
   "cell_type": "markdown",
   "metadata": {},
   "source": [
    "### Plaintext Data Examination\n",
    "First, examine your training data -- check out the mushroom samples you've collected! Secure XGBoost uses LibSVM format -- the first column represents the sample label (whether the sample is edible). Features have been one hot encoded, and each column represents the category of the feature. In particular, note that the data is in plaintext and is readable.\n",
    "\n",
    "**TODO:** Fill in your username."
   ]
  },
  {
   "cell_type": "code",
   "execution_count": 4,
   "metadata": {},
   "outputs": [
    {
     "name": "stdout",
     "output_type": "stream",
     "text": [
      "0 4:1 7:1 11:1 22:1 29:1 34:1 37:1 39:1 42:1 54:1 58:1 62:1 66:1 77:1 86:1 88:1 92:1 95:1 98:1 105:1 114:1 120:1\r\n",
      "1 4:1 10:1 11:1 21:1 30:1 34:1 36:1 40:1 51:1 53:1 58:1 65:1 69:1 77:1 86:1 88:1 92:1 95:1 102:1 106:1 118:1 120:1\r\n",
      "0 3:1 10:1 11:1 22:1 29:1 34:1 37:1 39:1 41:1 54:1 58:1 62:1 66:1 77:1 86:1 88:1 92:1 95:1 98:1 106:1 114:1 120:1\r\n",
      "0 3:1 7:1 11:1 22:1 29:1 34:1 37:1 39:1 42:1 54:1 58:1 65:1 66:1 77:1 86:1 88:1 92:1 95:1 98:1 105:1 117:1 120:1\r\n",
      "0 4:1 7:1 11:1 22:1 29:1 34:1 37:1 39:1 41:1 54:1 58:1 65:1 69:1 77:1 86:1 88:1 92:1 95:1 98:1 105:1 114:1 120:1\r\n",
      "0 3:1 7:1 19:1 22:1 29:1 34:1 37:1 39:1 41:1 54:1 58:1 65:1 69:1 77:1 86:1 88:1 92:1 95:1 98:1 106:1 117:1 120:1\r\n",
      "0 4:1 10:1 14:1 22:1 29:1 34:1 37:1 39:1 48:1 54:1 58:1 62:1 69:1 77:1 86:1 88:1 92:1 95:1 98:1 106:1 114:1 120:1\r\n",
      "0 4:1 7:1 19:1 22:1 29:1 34:1 37:1 39:1 44:1 54:1 58:1 62:1 69:1 77:1 86:1 88:1 92:1 95:1 98:1 105:1 117:1 120:1\r\n",
      "0 4:1 10:1 20:1 21:1 23:1 34:1 37:1 40:1 42:1 54:1 55:1 65:1 69:1 77:1 86:1 88:1 92:1 95:1 102:1 106:1 118:1 126:1\r\n",
      "0 4:1 7:1 19:1 21:1 23:1 34:1 37:1 40:1 42:1 54:1 55:1 65:1 69:1 77:1 86:1 88:1 92:1 95:1 102:1 106:1 118:1 126:1\r\n"
     ]
    }
   ],
   "source": [
    "# TODO: fill in the path to your training data\n",
    "!tail -n 10 /home/mc2/risecamp/mc2/tutorial/data/agaricus1.txt"
   ]
  },
  {
   "cell_type": "markdown",
   "metadata": {},
   "source": [
    "### Data Encryption\n",
    "Next, use the symmetric key generated above to encrypt your data. You've spent inordinate amounts of time collecting your mushroom samples and examining them, and don't want to share the fruits of your labor with anyone else.\n",
    "\n",
    "**TODO:** Specify the paths to your training and test data."
   ]
  },
  {
   "cell_type": "code",
   "execution_count": 5,
   "metadata": {},
   "outputs": [],
   "source": [
    "# TODO: edit the `training_data` and `test_data` variables with the paths to your data\n",
    "training_data = \"/home/mc2/risecamp/mc2/tutorial/data/agaricus1.txt\"\n",
    "test_data = \"/home/mc2/risecamp/mc2/tutorial/data/agaricus1.txt\""
   ]
  },
  {
   "cell_type": "code",
   "execution_count": 6,
   "metadata": {},
   "outputs": [],
   "source": [
    "# Paths to output encrypted data\n",
    "enc_training_data = cwd + \"data/{}_train.enc\".format(username)\n",
    "enc_test_data = cwd + \"data/{}_test.enc\".format(username)"
   ]
  },
  {
   "cell_type": "code",
   "execution_count": 7,
   "metadata": {},
   "outputs": [],
   "source": [
    "# Encrypt data\n",
    "mc2.encrypt_file(training_data, enc_training_data, KEY_FILE)\n",
    "mc2.encrypt_file(test_data, enc_test_data, KEY_FILE)"
   ]
  },
  {
   "cell_type": "markdown",
   "metadata": {},
   "source": [
    "### Encrypted Data Examination\n",
    "The encrypted data is at `/home/mc2/risecamp/mc2/tutorial/data/<username>_train.enc` and `/home/mc2/risecamp/mc2/tutorial/data/<username>_test.enc`. Let's take a look to confirm it's encrypted and that no one can see the characteristics of your samples.\n",
    "\n",
    "**TODO:** Fill in your username to specify the path to your encrypted data."
   ]
  },
  {
   "cell_type": "code",
   "execution_count": 8,
   "metadata": {},
   "outputs": [
    {
     "name": "stdout",
     "output_type": "stream",
     "text": [
      "1616,1625,5rZEv4VbSkXODySB,50XrrD52CszjJW/kk/kefQ==,fKzRF6aWliv/7+EnB+WiQNe4hoyvdBtm61sxuuYLN7NocBjPMJRgzxf38mL09/R3qgsIYgcjlyAXO7FPP60WJ1lBAHjGsnU1/LCd8a8iyaCC4ZULOBWX3sC4VaTotKPymM0dKXDV4B39p4QDtfYTxA==\r\n",
      "1617,1625,p+Q7N/KBHp5tVAop,H3XgXuwwFsS4xoiv5SIztw==,Dlc91IPrKGsVAo2P4T+jJYKHVO2YDBi5k+MWmnOdDV4v+d/vwdM1S8+3qv8XfgDmtP6XoT1/CMljKoGYITpoWiKgdpddBzw0vGI5lxFUN9SaNBmjg1n6StuDeHGID8AIFRq8zj8ygjUlc7Q6k4lgqVvN\r\n",
      "1618,1625,GRVJwWpFRwKPOigp,HAJYY2HdO70yQW+QxTozXQ==,jv5GmxEKtrCxlZWSBBObbMzbCqQey0myf4IFjWOe4DrYSWyOd6ydoX0CeV9ol6CRaeEmcIJhXcYkyikQkZg48doJXSLj0yfxXbAY2By0Xho9EANk338xx8R3BZwR9aXfFHoSQycbKkwrSY6TON/nlYA=\r\n",
      "1619,1625,nYHFZ1gtN4/2ZtAF,S+ascsjrwdvUGRlsAsDrdw==,kiCrSXKOQ/DbzfbwE/5sqjqm2SsWTbSfZVqd3pDTcHLivn7cIMJIYkJRFUbuSsdhne7WcOQ93TPPSeHxPzCYXq+UvQ7xwgsz2RaC3nqetlkx1qUKX8uY5JBFZwlwsfII79Xj0yMblyhA7ag2lSoKfg==\r\n",
      "1620,1625,YK8DVioaqVbAZ4+Z,yF7qtwEkiNtL2OoXkK6ABg==,bhZU+Oqz3tqFdA04erd0u0H3Wcc4S3faEaHOGyOM2w8FJmVl3zBsOR01EX7MlHWg5JMK8bEDMApgLdl4ehoxeKezmKrrh/ALQ79l0o0y+/Gb75MRjZK9okbASB9zQEc4GWwLsXY3Di6i6FmeelfkDg==\r\n",
      "1621,1625,sO5w5H7y9sFK7kEO,kH8An4VCAAPI+m+ANj/bSQ==,YfZQ9hWugNGbdynpCbz8GwaiBqrvFrK82xSMaaBoR2bhWT5Lca6tps0rGZ/hQPdre45qb/9nYFXEWogTh9LnAxxxPAopmVS4n9lRHvCz7XZQaRTMwCCuQT1/hfHO0cn3hsJ79COyBfB0YiFuYDAoyA==\r\n",
      "1622,1625,p5TLhtax7DV7F758,PxfDNMKhfl816f3jrrT4mw==,y7bRM1JGO5LxhdtJ2XBuJbRzFhH2e0ypIjBtTe7S2KTzuztySFRfnqh6kwMRNiGOzMVSe19lReQNB7KhUuRfGvMfGid7oqdEpb9EEYP2UzMA3Vadc1/7OzIEfhwkkVq3mWmlrG4v01WnDGinfqFl1IA=\r\n",
      "1623,1625,/ibHioVxPUS5qh+f,5fJPy9MmmntNp6hlUbhMVg==,OwQli/MlkjC9xGOg24KEpEIEvz7J3nsFVzPJGatgkBzWBcNx8Zk+L5UYm0iHGPOZ1/+Q/MIl7dcpgi+3oKgpJkrw6SZl3PMrQM3A3zzlRj3RlYK7B/FYishsquidxpp+JPiHwNyR70PwbF7HpNyREA==\r\n",
      "1624,1625,PCn3aG57l9CISTRM,YferfDSvDQEJWlL872OQ/w==,6JWIS5AgpHDfav2/UZGSRb3QDVHReCFUV+VGEqU61P1+b8133pESRNndKxFpaCfGAl5B8XzxnYSY2qnviIf83Sz0ogxcFGT69I+csFK8O4bUWpVfODfh+eTYvI5N5RRgu8VoqktNIjf16FrnEHx//8iP\r\n",
      "1625,1625,PK+J7UO0y1HH9mJu,nCMpofjapNKcGZ2z34cpQA==,6IX/hXlp8QD4h+yVT0Rl+0dlVGjsV39BwT+OfNUL82qJsxAs17KjJ/pRVH7IbTmQHhttqBr+KcAo7qIdTRWNRxfR0od6c/I2CQK8LThkKhku9bLn8Rjm38+0erXrpmanY1r7cCrXlSbFM3GXTk0J1+A=\r\n"
     ]
    }
   ],
   "source": [
    "# TODO: fill in your username\n",
    "!tail -n 10 /home/mc2/risecamp/mc2/tutorial/data/chief_train.enc"
   ]
  },
  {
   "cell_type": "code",
   "execution_count": 9,
   "metadata": {},
   "outputs": [
    {
     "name": "stdout",
     "output_type": "stream",
     "text": [
      "Stored 'username' (str)\n",
      "Stored 'PUB_KEY' (str)\n",
      "Stored 'CERT_FILE' (str)\n",
      "Stored 'KEY_FILE' (str)\n",
      "Stored 'enc_training_data' (str)\n",
      "Stored 'enc_test_data' (str)\n",
      "Stored 'cwd' (str)\n"
     ]
    }
   ],
   "source": [
    "# Run this cell to store variables for use in subsequent notebooks\n",
    "%store username\n",
    "%store PUB_KEY \n",
    "%store CERT_FILE \n",
    "%store KEY_FILE \n",
    "%store enc_training_data \n",
    "%store enc_test_data\n",
    "%store cwd"
   ]
  },
  {
   "cell_type": "markdown",
   "metadata": {},
   "source": [
    "**Once you've finished this step, wait for breakout rooms to reconverge.**"
   ]
  },
  {
   "cell_type": "markdown",
   "metadata": {},
   "source": [
    "## 3. Enclave server setup\n",
    "While in practice there'll be an enclave server controlled by no one party, to complete this tutorial one party in the collaboration will have to act as both a party and the enclave server. Designate one person in the collaboration to control the enclave server.\n",
    "\n",
    "If you've been designated as the enclave server, click [here](./Exercise 1.2.ipynb) to go to the next notebook. You'll have to set up the enclave server before everyone can begin training. \n",
    "\n",
    "Otherwise, click [here](./Exercise 2.ipynb)."
   ]
  },
  {
   "cell_type": "code",
   "execution_count": null,
   "metadata": {},
   "outputs": [],
   "source": []
  },
  {
   "cell_type": "code",
   "execution_count": null,
   "metadata": {},
   "outputs": [],
   "source": []
  }
 ],
 "metadata": {
  "kernelspec": {
   "display_name": "Python 3",
   "language": "python",
   "name": "python3"
  },
  "language_info": {
   "codemirror_mode": {
    "name": "ipython",
    "version": 3
   },
   "file_extension": ".py",
   "mimetype": "text/x-python",
   "name": "python",
   "nbconvert_exporter": "python",
   "pygments_lexer": "ipython3",
   "version": "3.6.9"
  }
 },
 "nbformat": 4,
 "nbformat_minor": 2
}
