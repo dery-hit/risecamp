{
 "cells": [
  {
   "cell_type": "markdown",
   "metadata": {},
   "source": [
    "#  RPC Orchestrator\n",
    "The RPC orchestrator coordinates all clients and relays requests to the enclave server. We'll need to start the RPC orchestrator before starting the enclave server."
   ]
  },
  {
   "cell_type": "code",
   "execution_count": null,
   "metadata": {},
   "outputs": [
    {
     "name": "stdout",
     "output_type": "stream",
     "text": [
      "Hello from the orchestrator!\n",
      "Error type: <class 'AssertionError'>\n",
      "Error value: \n"
     ]
    },
    {
     "name": "stderr",
     "output_type": "stream",
     "text": [
      "  File \"/usr/local/lib/python3.6/dist-packages/securexgboost-0.1-py3.6.egg/securexgboost/remote_server.py\", line 610, in rpc_XGBoosterPredict\n",
      "    enc_preds_proto_list, num_preds_list, sig_proto_list, sig_len_list, status = self._synchronize(remote_api.XGBoosterPredict, request)\n",
      "  File \"/usr/local/lib/python3.6/dist-packages/securexgboost-0.1-py3.6.egg/securexgboost/remote_server.py\", line 418, in _synchronize\n",
      "    self.command.submit(func, params, username)\n",
      "  File \"/usr/local/lib/python3.6/dist-packages/securexgboost-0.1-py3.6.egg/securexgboost/remote_server.py\", line 62, in submit\n",
      "    assert self._func == func\n"
     ]
    }
   ],
   "source": [
    "import securexgboost as xgb\n",
    "\n",
    "# Serve RPC orchestrator on port 50052\n",
    "# TODO: fill in `all_users` with the usernames of all parties in the collaboration\n",
    "xgb.serve(all_users=[\"chief\", \"chester\"], nodes=[\"127.0.0.1\"], port=50052)"
   ]
  },
  {
   "cell_type": "markdown",
   "metadata": {},
   "source": [
    "The cell above should continue to run, as you've just started a server to listen for requests. Once you've run the cell above, move to the next [notebook](./tutorial-server.ipynb)."
   ]
  },
  {
   "cell_type": "code",
   "execution_count": null,
   "metadata": {},
   "outputs": [],
   "source": []
  }
 ],
 "metadata": {
  "kernelspec": {
   "display_name": "Python 3",
   "language": "python",
   "name": "python3"
  },
  "language_info": {
   "codemirror_mode": {
    "name": "ipython",
    "version": 3
   },
   "file_extension": ".py",
   "mimetype": "text/x-python",
   "name": "python",
   "nbconvert_exporter": "python",
   "pygments_lexer": "ipython3",
   "version": "3.6.9"
  }
 },
 "nbformat": 4,
 "nbformat_minor": 2
}
